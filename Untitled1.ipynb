{
 "cells": [
  {
   "cell_type": "code",
   "execution_count": 2,
   "id": "7736673f",
   "metadata": {},
   "outputs": [],
   "source": [
    "import argparse\n",
    "import os\n",
    "import pandas as pd\n",
    "import numpy as np\n",
    "import torch\n",
    "from torch.utils.tensorboard import SummaryWriter\n",
    "os.environ[\"KMP_DUPLICATE_LIB_OK\"]=\"TRUE\"\n",
    "from SCINet.experiments.exp_ETTh import Exp_ETTh\n",
    "from args import args\n",
    "\n",
    "def force_cudnn_initialization():\n",
    "    s = 32\n",
    "    dev = torch.device('cuda')\n",
    "    torch.nn.functional.conv2d(torch.zeros(s, s, s, s, device=dev), torch.zeros(s, s, s, s, device=dev))\n",
    "\n",
    "def init_model(args, nameModel):\n",
    "    torch.manual_seed(4321)  # reproducible\n",
    "    torch.cuda.manual_seed_all(4321)\n",
    "    torch.backends.cudnn.benchmark = False\n",
    "    torch.backends.cudnn.deterministic = True  # Can change it to False --> default: False\n",
    "    torch.backends.cudnn.enabled = True\n",
    "\n",
    "    Exp = Exp_ETTh\n",
    "\n",
    "    mae_ = []\n",
    "    maes_ = []\n",
    "    mse_ = []\n",
    "    mses_ = []\n",
    "    lossArray = []\n",
    "\n",
    "    force_cudnn_initialization()\n",
    "    if args.evaluate:\n",
    "        setting = '{}_{}_ft{}_sl{}_ll{}_pl{}_lr{}_bs{}_hid{}_s{}_l{}_dp{}_inv{}_itr0'.format(args.model, args.data, args.features, args.seq_len, args.label_len, args.pred_len, args.lr, args.batch_size, args.hidden_size, args.stacks, args.levels, args.dropout, args.inverse)\n",
    "        exp = Exp(args)  # set experiments\n",
    "        print('>>>>>>>testing : {}<<<<<<<<<<<<<<<<<<<<<<<<<<<<<<<<<'.format(setting))\n",
    "        mae, maes, mse, mses = exp.test(setting, evaluate=True)\n",
    "        print('Final mean normed mse:{:.4f},mae:{:.4f},denormed mse:{:.4f},mae:{:.4f}'.format(mse, mae, mses, maes))\n",
    "    else:\n",
    "        if args.itr:\n",
    "            for ii in range(args.itr):\n",
    "                 # setting record of experiments\n",
    "                setting = '{}_{}_ft{}_sl{}_ll{}_pl{}_lr{}_bs{}_hid{}_s{}_l{}_dp{}_inv{}_itr{}'.format(args.model, args.data, args.features, args.seq_len, args.label_len, args.pred_len, args.lr, args.batch_size, args.hidden_size, args.stacks, args.levels, args.dropout, args.inverse, ii)\n",
    "\n",
    "                exp = Exp(args)  # set experiments\n",
    "                print('>>>>>>>start training : {}>>>>>>>>>>>>>>>>>>>>>>>>>>'.format(setting))\n",
    "                modelBin, loss = exp.train(setting, nameModel)\n",
    "                lossArray.append(loss)\n",
    "                print('>>>>>>>testing : {}<<<<<<<<<<<<<<<<<<<<<<<<<<<<<<<<<'.format(setting))\n",
    "                mae, maes, mse, mses = exp.test(setting)\n",
    "                mae_.append(mae)\n",
    "                mse_.append(mse)\n",
    "                maes_.append(maes)\n",
    "                mses_.append(mses)\n",
    "\n",
    "                torch.cuda.empty_cache()\n",
    "            print('Final mean normed mse:{:.4f}, std mse:{:.4f}, mae:{:.4f}, std mae:{:.4f}'.format(np.mean(mse_), np.std(mse_), np.mean(mae_), np.std(mae_)))\n",
    "            print('Final mean denormed mse:{:.4f}, std mse:{:.4f}, mae:{:.4f}, std mae:{:.4f}'.format(np.mean(mses_), np.std(mses_), np.mean(maes_), np.std(maes_)))\n",
    "            print('Final min normed mse:{:.4f}, mae:{:.4f}'.format(min(mse_), min(mae_)))\n",
    "            print('Final min denormed mse:{:.4f}, mae:{:.4f}'.format(min(mses_), min(maes_)))\n",
    "        else:\n",
    "            setting = '{}_{}_ft{}_sl{}_ll{}_pl{}_lr{}_bs{}_hid{}_s{}_l{}_dp{}_inv{}_itr0'.format(args.model, args.data, args.features, args.seq_len, args.label_len, args.pred_len, args.lr, args.batch_size, args.hidden_size, args.stacks, args.levels, args.dropout, args.inverse)\n",
    "            exp = Exp(args)  # set experiments\n",
    "            print('>>>>>>>start training : {}>>>>>>>>>>>>>>>>>>>>>>>>>>'.format(setting))\n",
    "            modelBin, loss = exp.train(setting, nameModel)\n",
    "            lossArray.append(loss)\n",
    "\n",
    "            print('>>>>>>>testing : {}<<<<<<<<<<<<<<<<<<<<<<<<<<<<<<<<<'.format(setting))\n",
    "            mae, maes, mse, mses = exp.test(setting)\n",
    "            print('Final mean normed mse:{:.4f},mae:{:.4f},denormed mse:{:.4f},mae:{:.4f}'.format(mse, mae, mses, maes))\n",
    "    return lossArray"
   ]
  },
  {
   "cell_type": "code",
   "execution_count": 6,
   "id": "90006f62",
   "metadata": {},
   "outputs": [
    {
     "data": {
      "text/html": [
       "<div>\n",
       "<style scoped>\n",
       "    .dataframe tbody tr th:only-of-type {\n",
       "        vertical-align: middle;\n",
       "    }\n",
       "\n",
       "    .dataframe tbody tr th {\n",
       "        vertical-align: top;\n",
       "    }\n",
       "\n",
       "    .dataframe thead th {\n",
       "        text-align: right;\n",
       "    }\n",
       "</style>\n",
       "<table border=\"1\" class=\"dataframe\">\n",
       "  <thead>\n",
       "    <tr style=\"text-align: right;\">\n",
       "      <th></th>\n",
       "      <th>date</th>\n",
       "      <th>&lt;OPEN&gt;</th>\n",
       "      <th>&lt;HIGH&gt;</th>\n",
       "      <th>&lt;LOW&gt;</th>\n",
       "      <th>OT</th>\n",
       "      <th>&lt;VOL&gt;</th>\n",
       "    </tr>\n",
       "  </thead>\n",
       "  <tbody>\n",
       "    <tr>\n",
       "      <th>0</th>\n",
       "      <td>2019-06-24</td>\n",
       "      <td>2465.4</td>\n",
       "      <td>2484.8</td>\n",
       "      <td>2448.0</td>\n",
       "      <td>2452.6</td>\n",
       "      <td>80765</td>\n",
       "    </tr>\n",
       "    <tr>\n",
       "      <th>1</th>\n",
       "      <td>2019-06-25</td>\n",
       "      <td>2446.8</td>\n",
       "      <td>2459.2</td>\n",
       "      <td>2415.0</td>\n",
       "      <td>2424.6</td>\n",
       "      <td>112543</td>\n",
       "    </tr>\n",
       "    <tr>\n",
       "      <th>2</th>\n",
       "      <td>2019-06-26</td>\n",
       "      <td>2398.4</td>\n",
       "      <td>2432.8</td>\n",
       "      <td>2382.4</td>\n",
       "      <td>2391.6</td>\n",
       "      <td>373316</td>\n",
       "    </tr>\n",
       "    <tr>\n",
       "      <th>3</th>\n",
       "      <td>2019-06-27</td>\n",
       "      <td>2390.4</td>\n",
       "      <td>2416.2</td>\n",
       "      <td>2372.0</td>\n",
       "      <td>2410.0</td>\n",
       "      <td>208834</td>\n",
       "    </tr>\n",
       "    <tr>\n",
       "      <th>4</th>\n",
       "      <td>2019-06-28</td>\n",
       "      <td>2436.2</td>\n",
       "      <td>2447.6</td>\n",
       "      <td>2378.0</td>\n",
       "      <td>2405.4</td>\n",
       "      <td>198344</td>\n",
       "    </tr>\n",
       "  </tbody>\n",
       "</table>\n",
       "</div>"
      ],
      "text/plain": [
       "         date  <OPEN>  <HIGH>   <LOW>      OT   <VOL>\n",
       "0  2019-06-24  2465.4  2484.8  2448.0  2452.6   80765\n",
       "1  2019-06-25  2446.8  2459.2  2415.0  2424.6  112543\n",
       "2  2019-06-26  2398.4  2432.8  2382.4  2391.6  373316\n",
       "3  2019-06-27  2390.4  2416.2  2372.0  2410.0  208834\n",
       "4  2019-06-28  2436.2  2447.6  2378.0  2405.4  198344"
      ]
     },
     "execution_count": 6,
     "metadata": {},
     "output_type": "execute_result"
    }
   ],
   "source": [
    "from datetime import datetime\n",
    "\n",
    "frame = pd.read_csv(\"data_test.csv\")\n",
    "frame = frame.rename(columns = {'<DATE>':'date','<CLOSE>':'OT'})\n",
    "frame = frame.drop('<TIME>', axis = 1)\n",
    "for i in range(len(frame)):\n",
    "    frame.at[i, 'date'] = datetime.strptime(str(frame.at[i, 'date']), \"%Y%m%d\").date()\n",
    "#     np.datetime64(str(frame.at[i, 'date']))\n",
    "                                        \n",
    "frame.head()"
   ]
  },
  {
   "cell_type": "code",
   "execution_count": 7,
   "id": "f719e39a",
   "metadata": {},
   "outputs": [
    {
     "data": {
      "text/plain": [
       "pandas.core.series.Series"
      ]
     },
     "execution_count": 7,
     "metadata": {},
     "output_type": "execute_result"
    }
   ],
   "source": [
    "type(frame['date'])"
   ]
  },
  {
   "cell_type": "code",
   "execution_count": 8,
   "id": "5c132cbe",
   "metadata": {},
   "outputs": [
    {
     "name": "stdout",
     "output_type": "stream",
     "text": [
      "SCINet(\n",
      "  (blocks1): EncoderTree(\n",
      "    (SCINet_Tree): SCINet_Tree(\n",
      "      (workingblock): LevelSCINet(\n",
      "        (interact): InteractorLevel(\n",
      "          (level): Interactor(\n",
      "            (split): Splitting()\n",
      "            (phi): Sequential(\n",
      "              (0): ReplicationPad1d((3, 3))\n",
      "              (1): Conv1d(1, 2, kernel_size=(5,), stride=(1,))\n",
      "              (2): LeakyReLU(negative_slope=0.01, inplace=True)\n",
      "              (3): Dropout(p=0.5, inplace=False)\n",
      "              (4): Conv1d(2, 1, kernel_size=(3,), stride=(1,))\n",
      "              (5): Tanh()\n",
      "            )\n",
      "            (psi): Sequential(\n",
      "              (0): ReplicationPad1d((3, 3))\n",
      "              (1): Conv1d(1, 2, kernel_size=(5,), stride=(1,))\n",
      "              (2): LeakyReLU(negative_slope=0.01, inplace=True)\n",
      "              (3): Dropout(p=0.5, inplace=False)\n",
      "              (4): Conv1d(2, 1, kernel_size=(3,), stride=(1,))\n",
      "              (5): Tanh()\n",
      "            )\n",
      "            (P): Sequential(\n",
      "              (0): ReplicationPad1d((3, 3))\n",
      "              (1): Conv1d(1, 2, kernel_size=(5,), stride=(1,))\n",
      "              (2): LeakyReLU(negative_slope=0.01, inplace=True)\n",
      "              (3): Dropout(p=0.5, inplace=False)\n",
      "              (4): Conv1d(2, 1, kernel_size=(3,), stride=(1,))\n",
      "              (5): Tanh()\n",
      "            )\n",
      "            (U): Sequential(\n",
      "              (0): ReplicationPad1d((3, 3))\n",
      "              (1): Conv1d(1, 2, kernel_size=(5,), stride=(1,))\n",
      "              (2): LeakyReLU(negative_slope=0.01, inplace=True)\n",
      "              (3): Dropout(p=0.5, inplace=False)\n",
      "              (4): Conv1d(2, 1, kernel_size=(3,), stride=(1,))\n",
      "              (5): Tanh()\n",
      "            )\n",
      "          )\n",
      "        )\n",
      "      )\n",
      "      (SCINet_Tree_odd): SCINet_Tree(\n",
      "        (workingblock): LevelSCINet(\n",
      "          (interact): InteractorLevel(\n",
      "            (level): Interactor(\n",
      "              (split): Splitting()\n",
      "              (phi): Sequential(\n",
      "                (0): ReplicationPad1d((3, 3))\n",
      "                (1): Conv1d(1, 2, kernel_size=(5,), stride=(1,))\n",
      "                (2): LeakyReLU(negative_slope=0.01, inplace=True)\n",
      "                (3): Dropout(p=0.5, inplace=False)\n",
      "                (4): Conv1d(2, 1, kernel_size=(3,), stride=(1,))\n",
      "                (5): Tanh()\n",
      "              )\n",
      "              (psi): Sequential(\n",
      "                (0): ReplicationPad1d((3, 3))\n",
      "                (1): Conv1d(1, 2, kernel_size=(5,), stride=(1,))\n",
      "                (2): LeakyReLU(negative_slope=0.01, inplace=True)\n",
      "                (3): Dropout(p=0.5, inplace=False)\n",
      "                (4): Conv1d(2, 1, kernel_size=(3,), stride=(1,))\n",
      "                (5): Tanh()\n",
      "              )\n",
      "              (P): Sequential(\n",
      "                (0): ReplicationPad1d((3, 3))\n",
      "                (1): Conv1d(1, 2, kernel_size=(5,), stride=(1,))\n",
      "                (2): LeakyReLU(negative_slope=0.01, inplace=True)\n",
      "                (3): Dropout(p=0.5, inplace=False)\n",
      "                (4): Conv1d(2, 1, kernel_size=(3,), stride=(1,))\n",
      "                (5): Tanh()\n",
      "              )\n",
      "              (U): Sequential(\n",
      "                (0): ReplicationPad1d((3, 3))\n",
      "                (1): Conv1d(1, 2, kernel_size=(5,), stride=(1,))\n",
      "                (2): LeakyReLU(negative_slope=0.01, inplace=True)\n",
      "                (3): Dropout(p=0.5, inplace=False)\n",
      "                (4): Conv1d(2, 1, kernel_size=(3,), stride=(1,))\n",
      "                (5): Tanh()\n",
      "              )\n",
      "            )\n",
      "          )\n",
      "        )\n",
      "        (SCINet_Tree_odd): SCINet_Tree(\n",
      "          (workingblock): LevelSCINet(\n",
      "            (interact): InteractorLevel(\n",
      "              (level): Interactor(\n",
      "                (split): Splitting()\n",
      "                (phi): Sequential(\n",
      "                  (0): ReplicationPad1d((3, 3))\n",
      "                  (1): Conv1d(1, 2, kernel_size=(5,), stride=(1,))\n",
      "                  (2): LeakyReLU(negative_slope=0.01, inplace=True)\n",
      "                  (3): Dropout(p=0.5, inplace=False)\n",
      "                  (4): Conv1d(2, 1, kernel_size=(3,), stride=(1,))\n",
      "                  (5): Tanh()\n",
      "                )\n",
      "                (psi): Sequential(\n",
      "                  (0): ReplicationPad1d((3, 3))\n",
      "                  (1): Conv1d(1, 2, kernel_size=(5,), stride=(1,))\n",
      "                  (2): LeakyReLU(negative_slope=0.01, inplace=True)\n",
      "                  (3): Dropout(p=0.5, inplace=False)\n",
      "                  (4): Conv1d(2, 1, kernel_size=(3,), stride=(1,))\n",
      "                  (5): Tanh()\n",
      "                )\n",
      "                (P): Sequential(\n",
      "                  (0): ReplicationPad1d((3, 3))\n",
      "                  (1): Conv1d(1, 2, kernel_size=(5,), stride=(1,))\n",
      "                  (2): LeakyReLU(negative_slope=0.01, inplace=True)\n",
      "                  (3): Dropout(p=0.5, inplace=False)\n",
      "                  (4): Conv1d(2, 1, kernel_size=(3,), stride=(1,))\n",
      "                  (5): Tanh()\n",
      "                )\n",
      "                (U): Sequential(\n",
      "                  (0): ReplicationPad1d((3, 3))\n",
      "                  (1): Conv1d(1, 2, kernel_size=(5,), stride=(1,))\n",
      "                  (2): LeakyReLU(negative_slope=0.01, inplace=True)\n",
      "                  (3): Dropout(p=0.5, inplace=False)\n",
      "                  (4): Conv1d(2, 1, kernel_size=(3,), stride=(1,))\n",
      "                  (5): Tanh()\n",
      "                )\n",
      "              )\n",
      "            )\n",
      "          )\n",
      "        )\n",
      "        (SCINet_Tree_even): SCINet_Tree(\n",
      "          (workingblock): LevelSCINet(\n",
      "            (interact): InteractorLevel(\n",
      "              (level): Interactor(\n",
      "                (split): Splitting()\n",
      "                (phi): Sequential(\n",
      "                  (0): ReplicationPad1d((3, 3))\n",
      "                  (1): Conv1d(1, 2, kernel_size=(5,), stride=(1,))\n",
      "                  (2): LeakyReLU(negative_slope=0.01, inplace=True)\n",
      "                  (3): Dropout(p=0.5, inplace=False)\n",
      "                  (4): Conv1d(2, 1, kernel_size=(3,), stride=(1,))\n",
      "                  (5): Tanh()\n",
      "                )\n",
      "                (psi): Sequential(\n",
      "                  (0): ReplicationPad1d((3, 3))\n",
      "                  (1): Conv1d(1, 2, kernel_size=(5,), stride=(1,))\n",
      "                  (2): LeakyReLU(negative_slope=0.01, inplace=True)\n",
      "                  (3): Dropout(p=0.5, inplace=False)\n",
      "                  (4): Conv1d(2, 1, kernel_size=(3,), stride=(1,))\n",
      "                  (5): Tanh()\n",
      "                )\n",
      "                (P): Sequential(\n",
      "                  (0): ReplicationPad1d((3, 3))\n",
      "                  (1): Conv1d(1, 2, kernel_size=(5,), stride=(1,))\n",
      "                  (2): LeakyReLU(negative_slope=0.01, inplace=True)\n",
      "                  (3): Dropout(p=0.5, inplace=False)\n",
      "                  (4): Conv1d(2, 1, kernel_size=(3,), stride=(1,))\n",
      "                  (5): Tanh()\n",
      "                )\n",
      "                (U): Sequential(\n",
      "                  (0): ReplicationPad1d((3, 3))\n",
      "                  (1): Conv1d(1, 2, kernel_size=(5,), stride=(1,))\n",
      "                  (2): LeakyReLU(negative_slope=0.01, inplace=True)\n",
      "                  (3): Dropout(p=0.5, inplace=False)\n",
      "                  (4): Conv1d(2, 1, kernel_size=(3,), stride=(1,))\n",
      "                  (5): Tanh()\n",
      "                )\n",
      "              )\n",
      "            )\n",
      "          )\n",
      "        )\n",
      "      )\n",
      "      (SCINet_Tree_even): SCINet_Tree(\n",
      "        (workingblock): LevelSCINet(\n",
      "          (interact): InteractorLevel(\n",
      "            (level): Interactor(\n",
      "              (split): Splitting()\n",
      "              (phi): Sequential(\n",
      "                (0): ReplicationPad1d((3, 3))\n",
      "                (1): Conv1d(1, 2, kernel_size=(5,), stride=(1,))\n",
      "                (2): LeakyReLU(negative_slope=0.01, inplace=True)\n",
      "                (3): Dropout(p=0.5, inplace=False)\n",
      "                (4): Conv1d(2, 1, kernel_size=(3,), stride=(1,))\n",
      "                (5): Tanh()\n",
      "              )\n",
      "              (psi): Sequential(\n",
      "                (0): ReplicationPad1d((3, 3))\n",
      "                (1): Conv1d(1, 2, kernel_size=(5,), stride=(1,))\n",
      "                (2): LeakyReLU(negative_slope=0.01, inplace=True)\n",
      "                (3): Dropout(p=0.5, inplace=False)\n",
      "                (4): Conv1d(2, 1, kernel_size=(3,), stride=(1,))\n",
      "                (5): Tanh()\n",
      "              )\n",
      "              (P): Sequential(\n",
      "                (0): ReplicationPad1d((3, 3))\n",
      "                (1): Conv1d(1, 2, kernel_size=(5,), stride=(1,))\n",
      "                (2): LeakyReLU(negative_slope=0.01, inplace=True)\n",
      "                (3): Dropout(p=0.5, inplace=False)\n",
      "                (4): Conv1d(2, 1, kernel_size=(3,), stride=(1,))\n",
      "                (5): Tanh()\n",
      "              )\n",
      "              (U): Sequential(\n",
      "                (0): ReplicationPad1d((3, 3))\n",
      "                (1): Conv1d(1, 2, kernel_size=(5,), stride=(1,))\n",
      "                (2): LeakyReLU(negative_slope=0.01, inplace=True)\n",
      "                (3): Dropout(p=0.5, inplace=False)\n",
      "                (4): Conv1d(2, 1, kernel_size=(3,), stride=(1,))\n",
      "                (5): Tanh()\n",
      "              )\n",
      "            )\n",
      "          )\n",
      "        )\n",
      "        (SCINet_Tree_odd): SCINet_Tree(\n",
      "          (workingblock): LevelSCINet(\n",
      "            (interact): InteractorLevel(\n",
      "              (level): Interactor(\n",
      "                (split): Splitting()\n",
      "                (phi): Sequential(\n",
      "                  (0): ReplicationPad1d((3, 3))\n",
      "                  (1): Conv1d(1, 2, kernel_size=(5,), stride=(1,))\n",
      "                  (2): LeakyReLU(negative_slope=0.01, inplace=True)\n",
      "                  (3): Dropout(p=0.5, inplace=False)\n",
      "                  (4): Conv1d(2, 1, kernel_size=(3,), stride=(1,))\n",
      "                  (5): Tanh()\n",
      "                )\n",
      "                (psi): Sequential(\n",
      "                  (0): ReplicationPad1d((3, 3))\n",
      "                  (1): Conv1d(1, 2, kernel_size=(5,), stride=(1,))\n",
      "                  (2): LeakyReLU(negative_slope=0.01, inplace=True)\n",
      "                  (3): Dropout(p=0.5, inplace=False)\n",
      "                  (4): Conv1d(2, 1, kernel_size=(3,), stride=(1,))\n",
      "                  (5): Tanh()\n",
      "                )\n",
      "                (P): Sequential(\n",
      "                  (0): ReplicationPad1d((3, 3))\n",
      "                  (1): Conv1d(1, 2, kernel_size=(5,), stride=(1,))\n",
      "                  (2): LeakyReLU(negative_slope=0.01, inplace=True)\n",
      "                  (3): Dropout(p=0.5, inplace=False)\n",
      "                  (4): Conv1d(2, 1, kernel_size=(3,), stride=(1,))\n",
      "                  (5): Tanh()\n",
      "                )\n",
      "                (U): Sequential(\n",
      "                  (0): ReplicationPad1d((3, 3))\n",
      "                  (1): Conv1d(1, 2, kernel_size=(5,), stride=(1,))\n",
      "                  (2): LeakyReLU(negative_slope=0.01, inplace=True)\n",
      "                  (3): Dropout(p=0.5, inplace=False)\n",
      "                  (4): Conv1d(2, 1, kernel_size=(3,), stride=(1,))\n",
      "                  (5): Tanh()\n",
      "                )\n",
      "              )\n",
      "            )\n",
      "          )\n",
      "        )\n",
      "        (SCINet_Tree_even): SCINet_Tree(\n",
      "          (workingblock): LevelSCINet(\n",
      "            (interact): InteractorLevel(\n",
      "              (level): Interactor(\n",
      "                (split): Splitting()\n",
      "                (phi): Sequential(\n",
      "                  (0): ReplicationPad1d((3, 3))\n",
      "                  (1): Conv1d(1, 2, kernel_size=(5,), stride=(1,))\n",
      "                  (2): LeakyReLU(negative_slope=0.01, inplace=True)\n",
      "                  (3): Dropout(p=0.5, inplace=False)\n",
      "                  (4): Conv1d(2, 1, kernel_size=(3,), stride=(1,))\n",
      "                  (5): Tanh()\n",
      "                )\n",
      "                (psi): Sequential(\n",
      "                  (0): ReplicationPad1d((3, 3))\n",
      "                  (1): Conv1d(1, 2, kernel_size=(5,), stride=(1,))\n",
      "                  (2): LeakyReLU(negative_slope=0.01, inplace=True)\n",
      "                  (3): Dropout(p=0.5, inplace=False)\n",
      "                  (4): Conv1d(2, 1, kernel_size=(3,), stride=(1,))\n",
      "                  (5): Tanh()\n",
      "                )\n",
      "                (P): Sequential(\n",
      "                  (0): ReplicationPad1d((3, 3))\n",
      "                  (1): Conv1d(1, 2, kernel_size=(5,), stride=(1,))\n",
      "                  (2): LeakyReLU(negative_slope=0.01, inplace=True)\n",
      "                  (3): Dropout(p=0.5, inplace=False)\n",
      "                  (4): Conv1d(2, 1, kernel_size=(3,), stride=(1,))\n",
      "                  (5): Tanh()\n",
      "                )\n",
      "                (U): Sequential(\n",
      "                  (0): ReplicationPad1d((3, 3))\n",
      "                  (1): Conv1d(1, 2, kernel_size=(5,), stride=(1,))\n",
      "                  (2): LeakyReLU(negative_slope=0.01, inplace=True)\n",
      "                  (3): Dropout(p=0.5, inplace=False)\n",
      "                  (4): Conv1d(2, 1, kernel_size=(3,), stride=(1,))\n",
      "                  (5): Tanh()\n",
      "                )\n",
      "              )\n",
      "            )\n",
      "          )\n",
      "        )\n",
      "      )\n",
      "    )\n",
      "  )\n",
      "  (projection1): Conv1d(48, 24, kernel_size=(1,), stride=(1,), bias=False)\n",
      "  (div_projection): ModuleList()\n",
      ")\n",
      ">>>>>>>start training : SCINet_data_ftS_sl48_ll24_pl24_lr0.003_bs32_hid2_s1_l3_dp0.5_invFalse_itr0>>>>>>>>>>>>>>>>>>>>>>>>>>\n",
      "train 622\n",
      "val 76\n",
      "test 175\n",
      "exp/data_checkpoints/data_train_pred\n"
     ]
    },
    {
     "name": "stdout",
     "output_type": "stream",
     "text": [
      "Epoch: 1 cost time: 3.244060754776001\n",
      "--------start to validate-----------\n",
      "normed mse:0.6430, mae:0.6420, rmse:0.8019, mape:0.3470, mspe:0.1827, corr:-0.1988\n",
      "denormed mse:967897.4954, mae:787.6403, rmse:983.8178, mape:0.4748, mspe:0.3685, corr:-0.1988\n",
      "--------start to test-----------\n",
      "normed mse:0.2785, mae:0.4657, rmse:0.5278, mape:0.2860, mspe:0.1042, corr:-0.1145\n",
      "denormed mse:419305.7865, mae:571.3856, rmse:647.5383, mape:0.2921, mspe:0.1111, corr:-0.1145\n",
      "Epoch: 1, Steps: 19 | Train Loss: 0.6654046 valid Loss: 0.6419619 Test Loss: 0.4657047\n",
      "Validation loss decreased (inf --> 0.641962).  Saving model ...\n",
      "Updating learning rate to 0.00285\n",
      "Epoch: 2 cost time: 3.000990390777588\n",
      "--------start to validate-----------\n",
      "normed mse:0.2548, mae:0.3697, rmse:0.5048, mape:0.1974, mspe:0.0702, corr:0.0401\n",
      "denormed mse:383536.6205, mae:453.6190, rmse:619.3033, mape:0.2776, mspe:0.1508, corr:0.0401\n",
      "--------start to test-----------\n",
      "normed mse:0.1073, mae:0.2839, rmse:0.3275, mape:0.1729, mspe:0.0391, corr:-0.1545\n",
      "denormed mse:161491.2802, mae:348.2683, rmse:401.8598, mape:0.1795, mspe:0.0439, corr:-0.1545\n",
      "Epoch: 2, Steps: 19 | Train Loss: 0.3704058 valid Loss: 0.3697197 Test Loss: 0.2838542\n",
      "Validation loss decreased (0.641962 --> 0.369720).  Saving model ...\n",
      "Updating learning rate to 0.0027075\n",
      "Epoch: 3 cost time: 2.963961362838745\n",
      "--------start to validate-----------\n",
      "normed mse:0.1297, mae:0.2455, rmse:0.3602, mape:0.1314, mspe:0.0357, corr:0.2432\n",
      "denormed mse:195259.4346, mae:301.1548, rmse:441.8817, mape:0.1840, mspe:0.0770, corr:0.2432\n",
      "--------start to test-----------\n",
      "normed mse:0.0726, mae:0.2293, rmse:0.2694, mape:0.1392, mspe:0.0262, corr:-0.1715\n",
      "denormed mse:109264.0564, mae:281.3372, rmse:330.5511, mape:0.1455, mspe:0.0301, corr:-0.1715\n",
      "Epoch: 3, Steps: 19 | Train Loss: 0.3038473 valid Loss: 0.2454545 Test Loss: 0.2293023\n",
      "Validation loss decreased (0.369720 --> 0.245455).  Saving model ...\n",
      "Updating learning rate to 0.0025721249999999998\n",
      "Epoch: 4 cost time: 2.975991725921631\n",
      "--------start to validate-----------\n",
      "normed mse:0.0696, mae:0.1856, rmse:0.2638, mape:0.1010, mspe:0.0199, corr:0.3878\n",
      "denormed mse:104722.3445, mae:227.7487, rmse:323.6083, mape:0.1364, mspe:0.0399, corr:0.3878\n",
      "--------start to test-----------\n",
      "normed mse:0.0495, mae:0.1820, rmse:0.2224, mape:0.1104, mspe:0.0177, corr:-0.1686\n",
      "denormed mse:74477.9451, mae:223.3142, rmse:272.9065, mape:0.1157, mspe:0.0207, corr:-0.1686\n",
      "Epoch: 4, Steps: 19 | Train Loss: 0.2740977 valid Loss: 0.1856253 Test Loss: 0.1820110\n",
      "Validation loss decreased (0.245455 --> 0.185625).  Saving model ...\n",
      "Updating learning rate to 0.0024435187499999996\n",
      "Epoch: 5 cost time: 3.10996150970459\n",
      "--------start to validate-----------\n",
      "normed mse:0.0596, mae:0.1868, rmse:0.2441, mape:0.1024, mspe:0.0177, corr:0.4845\n",
      "denormed mse:89726.6205, mae:229.2171, rmse:299.5440, mape:0.1362, mspe:0.0330, corr:0.4845\n",
      "--------start to test-----------\n",
      "normed mse:0.0428, mae:0.1642, rmse:0.2069, mape:0.1000, mspe:0.0155, corr:-0.1434\n",
      "denormed mse:64435.4737, mae:201.4420, rmse:253.8414, mape:0.1039, mspe:0.0177, corr:-0.1434\n",
      "Epoch: 5, Steps: 19 | Train Loss: 0.2548357 valid Loss: 0.1868221 Test Loss: 0.1641842\n",
      "EarlyStopping counter: 1 out of 5\n",
      "Updating learning rate to 0.0023213428124999992\n",
      "Epoch: 6 cost time: 2.799919843673706\n",
      "--------start to validate-----------\n",
      "normed mse:0.0460, mae:0.1598, rmse:0.2145, mape:0.0876, mspe:0.0136, corr:0.5713\n",
      "denormed mse:69267.7255, mae:196.0219, rmse:263.1876, mape:0.1164, mspe:0.0256, corr:0.5713\n",
      "--------start to test-----------\n",
      "normed mse:0.0499, mae:0.1683, rmse:0.2235, mape:0.1023, mspe:0.0180, corr:-0.1292\n",
      "denormed mse:75173.6116, mae:206.5124, rmse:274.1781, mape:0.1068, mspe:0.0207, corr:-0.1292\n",
      "Epoch: 6, Steps: 19 | Train Loss: 0.2504326 valid Loss: 0.1597666 Test Loss: 0.1683168\n",
      "Validation loss decreased (0.185625 --> 0.159767).  Saving model ...\n",
      "Updating learning rate to 0.0022052756718749992\n",
      "Epoch: 7 cost time: 2.9873874187469482\n",
      "--------start to validate-----------\n",
      "normed mse:0.0415, mae:0.1567, rmse:0.2037, mape:0.0874, mspe:0.0129, corr:0.6091\n",
      "denormed mse:62453.0907, mae:192.3000, rmse:249.9062, mape:0.1118, mspe:0.0217, corr:0.6091\n",
      "--------start to test-----------\n",
      "normed mse:0.0570, mae:0.1824, rmse:0.2388, mape:0.1111, mspe:0.0207, corr:-0.1113\n",
      "denormed mse:85859.2339, mae:223.7525, rmse:293.0175, mape:0.1153, mspe:0.0234, corr:-0.1113\n",
      "Epoch: 7, Steps: 19 | Train Loss: 0.2369718 valid Loss: 0.1567331 Test Loss: 0.1823682\n",
      "Validation loss decreased (0.159767 --> 0.156733).  Saving model ...\n",
      "Updating learning rate to 0.0020950118882812493\n",
      "Epoch: 8 cost time: 2.9982917308807373\n",
      "--------start to validate-----------\n",
      "normed mse:0.0299, mae:0.1334, rmse:0.1730, mape:0.0730, mspe:0.0089, corr:0.6206\n",
      "denormed mse:45062.9071, mae:163.6323, rmse:212.2803, mape:0.0975, mspe:0.0167, corr:0.6206\n",
      "--------start to test-----------\n",
      "normed mse:0.0452, mae:0.1634, rmse:0.2126, mape:0.0990, mspe:0.0162, corr:-0.0928\n",
      "denormed mse:68033.3299, mae:200.4478, rmse:260.8320, mape:0.1039, mspe:0.0189, corr:-0.0928\n",
      "Epoch: 8, Steps: 19 | Train Loss: 0.2341260 valid Loss: 0.1333676 Test Loss: 0.1633738\n",
      "Validation loss decreased (0.156733 --> 0.133368).  Saving model ...\n",
      "Updating learning rate to 0.0019902612938671868\n",
      "Epoch: 9 cost time: 2.975858211517334\n",
      "--------start to validate-----------\n",
      "normed mse:0.0308, mae:0.1375, rmse:0.1756, mape:0.0754, mspe:0.0092, corr:0.6173\n",
      "denormed mse:46439.0830, mae:168.7395, rmse:215.4973, mape:0.1004, mspe:0.0170, corr:0.6173\n",
      "--------start to test-----------\n",
      "normed mse:0.0522, mae:0.1781, rmse:0.2285, mape:0.1081, mspe:0.0188, corr:-0.0776\n",
      "denormed mse:78620.0903, mae:218.5549, rmse:280.3927, mape:0.1131, mspe:0.0217, corr:-0.0776\n",
      "Epoch: 9, Steps: 19 | Train Loss: 0.2306278 valid Loss: 0.1375302 Test Loss: 0.1781319\n",
      "EarlyStopping counter: 1 out of 5\n",
      "Updating learning rate to 0.0018907482291738273\n",
      "Epoch: 10 cost time: 3.062525987625122\n",
      "--------start to validate-----------\n",
      "normed mse:0.0298, mae:0.1362, rmse:0.1725, mape:0.0749, mspe:0.0089, corr:0.6229\n",
      "denormed mse:44807.4182, mae:167.1430, rmse:211.6776, mape:0.0991, mspe:0.0163, corr:0.6229\n",
      "--------start to test-----------\n",
      "normed mse:0.0448, mae:0.1655, rmse:0.2116, mape:0.1003, mspe:0.0160, corr:-0.0608\n",
      "denormed mse:67383.8358, mae:203.0552, rmse:259.5840, mape:0.1052, mspe:0.0187, corr:-0.0608\n",
      "Epoch: 10, Steps: 19 | Train Loss: 0.2277340 valid Loss: 0.1362290 Test Loss: 0.1654990\n",
      "EarlyStopping counter: 2 out of 5\n",
      "Updating learning rate to 0.001796210817715136\n",
      "Epoch: 11 cost time: 3.0260186195373535\n",
      "--------start to validate-----------\n",
      "normed mse:0.0291, mae:0.1353, rmse:0.1707, mape:0.0752, mspe:0.0091, corr:0.6199\n",
      "denormed mse:43864.5029, mae:166.0336, rmse:209.4385, mape:0.0971, mspe:0.0152, corr:0.6199\n",
      "--------start to test-----------\n",
      "normed mse:0.0225, mae:0.1154, rmse:0.1498, mape:0.0704, mspe:0.0081, corr:-0.0535\n",
      "denormed mse:33801.4698, mae:141.6386, rmse:183.8518, mape:0.0731, mspe:0.0094, corr:-0.0535\n",
      "Epoch: 11, Steps: 19 | Train Loss: 0.2264351 valid Loss: 0.1353248 Test Loss: 0.1154418\n",
      "EarlyStopping counter: 3 out of 5\n",
      "Updating learning rate to 0.0017064002768293791\n",
      "Epoch: 12 cost time: 2.9955008029937744\n",
      "--------start to validate-----------\n",
      "normed mse:0.0232, mae:0.1174, rmse:0.1524, mape:0.0652, mspe:0.0073, corr:0.6269\n",
      "denormed mse:34945.1356, mae:143.9896, rmse:186.9362, mape:0.0843, mspe:0.0122, corr:0.6269\n",
      "--------start to test-----------\n",
      "normed mse:0.0242, mae:0.1167, rmse:0.1555, mape:0.0709, mspe:0.0086, corr:-0.0391\n",
      "denormed mse:36380.9880, mae:143.1894, rmse:190.7380, mape:0.0741, mspe:0.0102, corr:-0.0391\n",
      "Epoch: 12, Steps: 19 | Train Loss: 0.2195650 valid Loss: 0.1173579 Test Loss: 0.1167057\n",
      "Validation loss decreased (0.133368 --> 0.117358).  Saving model ...\n",
      "Updating learning rate to 0.00162108026298791\n",
      "Epoch: 13 cost time: 2.9865880012512207\n",
      "--------start to validate-----------\n",
      "normed mse:0.0231, mae:0.1175, rmse:0.1519, mape:0.0646, mspe:0.0069, corr:0.6245\n",
      "denormed mse:34739.1849, mae:144.1272, rmse:186.3845, mape:0.0854, mspe:0.0127, corr:0.6245\n",
      "--------start to test-----------\n",
      "normed mse:0.0319, mae:0.1379, rmse:0.1787, mape:0.0835, mspe:0.0114, corr:-0.0278\n",
      "denormed mse:48079.4594, mae:169.2165, rmse:219.2703, mape:0.0878, mspe:0.0134, corr:-0.0278\n",
      "Epoch: 13, Steps: 19 | Train Loss: 0.2198932 valid Loss: 0.1174701 Test Loss: 0.1379190\n",
      "EarlyStopping counter: 1 out of 5\n",
      "Updating learning rate to 0.0015400262498385146\n"
     ]
    },
    {
     "name": "stdout",
     "output_type": "stream",
     "text": [
      "Epoch: 14 cost time: 3.0256454944610596\n",
      "--------start to validate-----------\n",
      "normed mse:0.0258, mae:0.1258, rmse:0.1605, mape:0.0688, mspe:0.0076, corr:0.6371\n",
      "denormed mse:38792.3162, mae:154.2941, rmse:196.9577, mape:0.0922, mspe:0.0146, corr:0.6371\n",
      "--------start to test-----------\n",
      "normed mse:0.0375, mae:0.1556, rmse:0.1937, mape:0.0942, mspe:0.0134, corr:-0.0152\n",
      "denormed mse:56481.5451, mae:190.9257, rmse:237.6585, mape:0.0990, mspe:0.0158, corr:-0.0152\n",
      "Epoch: 14, Steps: 19 | Train Loss: 0.2158118 valid Loss: 0.1257565 Test Loss: 0.1556129\n",
      "EarlyStopping counter: 2 out of 5\n",
      "Updating learning rate to 0.0014630249373465886\n",
      "Epoch: 15 cost time: 2.9939022064208984\n",
      "--------start to validate-----------\n",
      "normed mse:0.0292, mae:0.1383, rmse:0.1708, mape:0.0763, mspe:0.0089, corr:0.6514\n",
      "denormed mse:43939.2708, mae:169.6398, rmse:209.6170, mape:0.1003, mspe:0.0159, corr:0.6514\n",
      "--------start to test-----------\n",
      "normed mse:0.0563, mae:0.1860, rmse:0.2374, mape:0.1130, mspe:0.0203, corr:-0.0083\n",
      "denormed mse:84824.9578, mae:228.1839, rmse:291.2472, mape:0.1179, mspe:0.0233, corr:-0.0083\n",
      "Epoch: 15, Steps: 19 | Train Loss: 0.2153321 valid Loss: 0.1382639 Test Loss: 0.1859800\n",
      "EarlyStopping counter: 3 out of 5\n",
      "Updating learning rate to 0.001389873690479259\n",
      "Epoch: 16 cost time: 3.066106081008911\n",
      "--------start to validate-----------\n",
      "normed mse:0.0310, mae:0.1417, rmse:0.1761, mape:0.0772, mspe:0.0090, corr:0.6585\n",
      "denormed mse:46688.6453, mae:173.9052, rmse:216.0756, mape:0.1044, mspe:0.0177, corr:0.6585\n",
      "--------start to test-----------\n",
      "normed mse:0.0542, mae:0.1891, rmse:0.2328, mape:0.1147, mspe:0.0195, corr:-0.0018\n",
      "denormed mse:81594.5577, mae:232.0496, rmse:285.6476, mape:0.1201, mspe:0.0225, corr:-0.0018\n",
      "Epoch: 16, Steps: 19 | Train Loss: 0.2177482 valid Loss: 0.1417405 Test Loss: 0.1891308\n",
      "EarlyStopping counter: 4 out of 5\n",
      "Updating learning rate to 0.001320380005955296\n",
      "Epoch: 17 cost time: 3.0666935443878174\n",
      "--------start to validate-----------\n",
      "normed mse:0.0237, mae:0.1196, rmse:0.1539, mape:0.0659, mspe:0.0072, corr:0.6192\n",
      "denormed mse:35676.1008, mae:146.7470, rmse:188.8812, mape:0.0868, mspe:0.0128, corr:0.6192\n",
      "--------start to test-----------\n",
      "normed mse:0.0295, mae:0.1303, rmse:0.1716, mape:0.0792, mspe:0.0106, corr:0.0028\n",
      "denormed mse:44346.9878, mae:159.8367, rmse:210.5872, mape:0.0827, mspe:0.0123, corr:0.0028\n",
      "Epoch: 17, Steps: 19 | Train Loss: 0.2152704 valid Loss: 0.1196053 Test Loss: 0.1302740\n",
      "EarlyStopping counter: 5 out of 5\n",
      "Early stopping\n",
      "save model in  exp/data_checkpoints/data_train_pred\\data24.bin\n",
      ">>>>>>>testing : SCINet_data_ftS_sl48_ll24_pl24_lr0.003_bs32_hid2_s1_l3_dp0.5_invFalse_itr0<<<<<<<<<<<<<<<<<<<<<<<<<<<<<<<<<\n",
      "test 175\n",
      "normed mse:0.0242, mae:0.1167, rmse:0.1555, mape:0.0709, mspe:0.0086, corr:-0.0391\n",
      "TTTT denormed mse:36380.9880, mae:143.1894, rmse:190.7380, mape:0.0741, mspe:0.0102, corr:-0.0391\n",
      "Test:mse:0.0242, mae:0.1167, rmse:0.1555, mape:0.0709, mspe:0.0086, corr:-0.0391\n",
      "Final mean normed mse:0.0242,mae:0.1167,denormed mse:36380.9880,mae:143.1894\n"
     ]
    }
   ],
   "source": [
    "from args import args\n",
    "name = 'data_train_pred'\n",
    "frame.to_csv('data_train_pred.csv', ',', encoding='utf-8')\n",
    "args = args('data', 2, 32, 50, name, 'data_train_pred.csv')\n",
    "args.detail_freq = args.freq\n",
    "args.freq = args.freq[-1:]\n",
    "loss = init_model(args, name)\n",
    "true = np.load('exp/ett_results/' + name + \"/true_scales.npy\")\n",
    "pred = np.load('exp/ett_results/' + name + \"/pred_scales.npy\")\n",
    "# Exp = Exp_ETTh\n",
    "# exp = Exp(args)\n",
    "# pred, true, true_scale, pred_scale = exp.predict('data_train_pred')"
   ]
  },
  {
   "cell_type": "code",
   "execution_count": 19,
   "id": "ce4c7a80",
   "metadata": {},
   "outputs": [
    {
     "data": {
      "application/vnd.plotly.v1+json": {
       "config": {
        "plotlyServerURL": "https://plot.ly"
       },
       "data": [
        {
         "mode": "lines",
         "name": "Правда",
         "type": "scatter",
         "x": [
          1,
          2,
          3,
          4,
          5,
          6,
          7,
          8,
          9,
          10,
          11,
          12,
          13,
          14,
          15,
          16,
          17,
          18,
          19,
          20,
          21,
          22,
          23,
          24,
          25,
          26,
          27,
          28,
          29,
          30,
          31,
          32,
          33,
          34,
          35,
          36,
          37,
          38,
          39,
          40,
          41,
          42,
          43,
          44,
          45,
          46,
          47,
          48,
          49,
          50,
          51,
          52,
          53,
          54,
          55,
          56,
          57,
          58,
          59,
          60,
          61,
          62,
          63,
          64,
          65,
          66,
          67,
          68,
          69,
          70,
          71,
          72,
          73,
          74,
          75,
          76,
          77,
          78,
          79,
          80,
          81,
          82,
          83,
          84,
          85,
          86,
          87,
          88,
          89,
          90,
          91,
          92,
          93,
          94,
          95,
          96,
          97,
          98,
          99,
          100,
          101,
          102,
          103,
          104,
          105,
          106,
          107,
          108,
          109,
          110,
          111,
          112,
          113,
          114,
          115,
          116,
          117,
          118,
          119,
          120,
          121,
          122,
          123,
          124,
          125,
          126,
          127,
          128,
          129,
          130,
          131,
          132,
          133,
          134,
          135,
          136,
          137,
          138,
          139,
          140,
          141,
          142,
          143,
          144,
          145,
          146,
          147,
          148,
          149,
          150,
          151,
          152,
          153,
          154,
          155,
          156,
          157,
          158,
          159
         ],
         "y": [
          2148.6000000000004,
          2191.4,
          2167.4,
          2177.6,
          2206,
          2230,
          2010,
          1899.4,
          1916.8,
          1791.7999999999997,
          1543,
          1713.2000000000003,
          1780,
          1840.6,
          1877.6,
          1959,
          1985,
          2029.8,
          2004.4,
          1930.1999999999998,
          1998,
          2006.6,
          2043.9999999999998,
          2031.9999999999998,
          1991,
          2022.2,
          1968,
          1927.4,
          1928.8,
          1976,
          1973.4,
          2020.2,
          2008.0000000000002,
          2021,
          2021.8,
          2109,
          2157,
          2110,
          2119,
          2151.6000000000004,
          2127.6,
          2060.4,
          2111.6,
          2122.2,
          2132.4,
          2071.6,
          2114.2,
          2097.8,
          2098.2,
          2068,
          2083.8,
          2135,
          2130,
          2020.4,
          1914.2000000000003,
          1986.2,
          1996.6,
          1980.2,
          1971.2,
          1985.8,
          1989.4,
          1976.4,
          1958.4,
          1949.4,
          1921.8,
          1899.2000000000003,
          1851,
          1849.6,
          1836.4,
          1768.7999999999997,
          1842,
          1833.7999999999997,
          1847,
          1821.2000000000003,
          1811.4,
          1834,
          1815.7999999999997,
          1819.6,
          1817.7999999999997,
          1832,
          1867,
          1855.4,
          1850.4,
          1866.7999999999997,
          1870,
          1909,
          1897.7999999999997,
          1912,
          1953.8,
          1889.6,
          1906.6,
          1882.4,
          1904.7999999999997,
          1945.0000000000002,
          1919.8,
          1914.7999999999997,
          1902.7999999999997,
          1912,
          1934,
          2047.2,
          2088,
          2075,
          2055.8,
          2094.6,
          2076.6,
          2060.2,
          2040.4,
          2060.8,
          2065.2,
          2028.6,
          1969.1999999999998,
          1976.4,
          1971,
          1958,
          1993.8,
          1980.4,
          1986.6,
          2007.4,
          2015,
          2033.8,
          1970.8,
          1984.1999999999998,
          1973,
          1961.8,
          1942.0000000000002,
          1917,
          1907.4,
          1901.2000000000003,
          1864.2000000000003,
          1851,
          1898,
          1910,
          1887.6,
          1887.7999999999997,
          1902,
          1886.4,
          1919.6,
          1929.6,
          1919.6,
          1917.4,
          1901.6,
          1913,
          1905,
          1907.2000000000003,
          1912.7999999999997,
          1919.8,
          1993.0000000000002,
          1952.2,
          1953.6,
          1954.0000000000002,
          1945.0000000000002,
          1964.8,
          1981.4,
          1989.6,
          2098.6,
          2086.8,
          2080,
          2059.4,
          2113,
          2101.6
         ]
        },
        {
         "mode": "lines",
         "name": "Предсказание",
         "type": "scatter",
         "x": [
          1,
          2,
          3,
          4,
          5,
          6,
          7,
          8,
          9,
          10,
          11,
          12,
          13,
          14,
          15,
          16,
          17,
          18,
          19,
          20,
          21,
          22,
          23,
          24,
          25,
          26,
          27,
          28,
          29,
          30,
          31,
          32,
          33,
          34,
          35,
          36,
          37,
          38,
          39,
          40,
          41,
          42,
          43,
          44,
          45,
          46,
          47,
          48,
          49,
          50,
          51,
          52,
          53,
          54,
          55,
          56,
          57,
          58,
          59,
          60,
          61,
          62,
          63,
          64,
          65,
          66,
          67,
          68,
          69,
          70,
          71,
          72,
          73,
          74,
          75,
          76,
          77,
          78,
          79,
          80,
          81,
          82,
          83,
          84,
          85,
          86,
          87,
          88,
          89,
          90,
          91,
          92,
          93,
          94,
          95,
          96,
          97,
          98,
          99,
          100,
          101,
          102,
          103,
          104,
          105,
          106,
          107,
          108,
          109,
          110,
          111,
          112,
          113,
          114,
          115,
          116,
          117,
          118,
          119,
          120,
          121,
          122,
          123,
          124,
          125,
          126,
          127,
          128,
          129,
          130,
          131,
          132,
          133,
          134,
          135,
          136,
          137,
          138,
          139,
          140,
          141,
          142,
          143,
          144,
          145,
          146,
          147,
          148,
          149,
          150,
          151,
          152,
          153,
          154,
          155,
          156,
          157,
          158,
          159
         ],
         "y": [
          2055.1095336131766,
          2015.34785693668,
          2081.2314853829334,
          2117.0841205680395,
          2125.9575489835215,
          2118.834714760238,
          2119.448909748413,
          2120.7556279037763,
          2160.4780723215226,
          2118.3089248640244,
          2038.0101221418113,
          1940.2919520795665,
          1862.8605394343926,
          1826.263127899098,
          1924.2733370228043,
          1808.597577256849,
          1771.8493180261962,
          1753.793785948572,
          1764.829200083138,
          1804.900216726529,
          1806.729330141049,
          1804.8779548358707,
          1898.4178542111285,
          1996.6437686262877,
          2077.422674216765,
          2080.142099746834,
          2006.7336819489626,
          2001.0897045106208,
          2030.0706535339423,
          1864.249979368442,
          1866.4438346817146,
          1953.3983247755132,
          1950.488692795224,
          1933.6693281396697,
          2065.6008737773986,
          2067.684430941844,
          2076.4952465644055,
          2053.346171320435,
          2076.7115771546623,
          2041.5610893668274,
          2026.3510959580926,
          2028.2786686588593,
          2080.2698003385312,
          2082.1650235248926,
          2112.27189187318,
          2148.4446402145177,
          2149.568435237513,
          2148.4465727976085,
          2057.8006412810255,
          2011.4990571937458,
          2040.9395915202006,
          2025.6657016333754,
          2005.7852578828404,
          2012.7076885075676,
          2108.2162537653967,
          2119.5597258107864,
          2064.4216745635727,
          1981.7926840714406,
          2034.047996283171,
          2022.6588737364193,
          1977.6215363105973,
          1961.2286979889993,
          1978.3351598726476,
          1950.8062094685656,
          1909.654303000149,
          1897.1644961871693,
          1928.5207976395418,
          1916.1365476335127,
          1895.0155563493909,
          1881.000610349784,
          1858.7060925027276,
          1862.7032407769193,
          1833.2539636154634,
          1846.9789145629697,
          1809.1169528429955,
          1817.8596818676187,
          1774.7368531812945,
          1777.2795125313428,
          1831.3248961408185,
          1798.8974907791185,
          1795.2372810789348,
          1850.5956602155375,
          1869.108467622943,
          1853.1160660252813,
          1821.3182935331415,
          1834.673280498579,
          1833.7098667646792,
          1813.3058551414015,
          1840.6999370329258,
          1890.0632279151228,
          1913.1949173902221,
          1889.7510936005983,
          1853.532225545443,
          1936.990359114145,
          1956.8153714000266,
          1900.672686495102,
          1872.6275520598301,
          1884.874379128587,
          1926.984635270527,
          1914.7268553329836,
          1893.3564618928244,
          1928.4911960584498,
          1983.6315299251587,
          1994.087468573191,
          2018.1272252401182,
          2003.1903869916073,
          1999.7332521577077,
          2011.6243465568689,
          2031.155482568568,
          2055.0845202318806,
          2053.9357659220304,
          2032.4719222216036,
          2016.8377678842328,
          2012.6489745437877,
          1995.8333116814533,
          1961.11805129244,
          1944.0269890460238,
          1964.0620146650579,
          1956.515456555583,
          1986.925537740369,
          1957.7730177465298,
          1938.2633842911066,
          1997.8255640400014,
          1973.7684256645066,
          1967.7338297336091,
          1944.2297536108936,
          1951.9060301569123,
          1945.2322438355575,
          1892.5909981910668,
          1887.0434539632251,
          1905.2963883547654,
          1897.1820999102574,
          1874.6818138920435,
          1849.5537603628345,
          1859.254820920407,
          1855.3189888648449,
          1857.7489008128337,
          1872.9660798633408,
          1884.510110408953,
          1878.5825062292747,
          1886.414100917982,
          1927.454405959856,
          1935.6177062294523,
          1875.550876490951,
          1880.0545838416201,
          1896.0594531145111,
          1919.617701733555,
          1911.1467225528504,
          1886.4933362722177,
          1921.280777056457,
          1942.4992304861626,
          1926.2015092221966,
          1911.4302411757017,
          1922.225515078738,
          1947.960933858222,
          1971.0835329165045,
          2000.634967949223,
          2036.473496501539,
          1998.844480745226,
          2022.3677349417653
         ]
        }
       ],
       "layout": {
        "template": {
         "data": {
          "bar": [
           {
            "error_x": {
             "color": "#2a3f5f"
            },
            "error_y": {
             "color": "#2a3f5f"
            },
            "marker": {
             "line": {
              "color": "#E5ECF6",
              "width": 0.5
             },
             "pattern": {
              "fillmode": "overlay",
              "size": 10,
              "solidity": 0.2
             }
            },
            "type": "bar"
           }
          ],
          "barpolar": [
           {
            "marker": {
             "line": {
              "color": "#E5ECF6",
              "width": 0.5
             },
             "pattern": {
              "fillmode": "overlay",
              "size": 10,
              "solidity": 0.2
             }
            },
            "type": "barpolar"
           }
          ],
          "carpet": [
           {
            "aaxis": {
             "endlinecolor": "#2a3f5f",
             "gridcolor": "white",
             "linecolor": "white",
             "minorgridcolor": "white",
             "startlinecolor": "#2a3f5f"
            },
            "baxis": {
             "endlinecolor": "#2a3f5f",
             "gridcolor": "white",
             "linecolor": "white",
             "minorgridcolor": "white",
             "startlinecolor": "#2a3f5f"
            },
            "type": "carpet"
           }
          ],
          "choropleth": [
           {
            "colorbar": {
             "outlinewidth": 0,
             "ticks": ""
            },
            "type": "choropleth"
           }
          ],
          "contour": [
           {
            "colorbar": {
             "outlinewidth": 0,
             "ticks": ""
            },
            "colorscale": [
             [
              0,
              "#0d0887"
             ],
             [
              0.1111111111111111,
              "#46039f"
             ],
             [
              0.2222222222222222,
              "#7201a8"
             ],
             [
              0.3333333333333333,
              "#9c179e"
             ],
             [
              0.4444444444444444,
              "#bd3786"
             ],
             [
              0.5555555555555556,
              "#d8576b"
             ],
             [
              0.6666666666666666,
              "#ed7953"
             ],
             [
              0.7777777777777778,
              "#fb9f3a"
             ],
             [
              0.8888888888888888,
              "#fdca26"
             ],
             [
              1,
              "#f0f921"
             ]
            ],
            "type": "contour"
           }
          ],
          "contourcarpet": [
           {
            "colorbar": {
             "outlinewidth": 0,
             "ticks": ""
            },
            "type": "contourcarpet"
           }
          ],
          "heatmap": [
           {
            "colorbar": {
             "outlinewidth": 0,
             "ticks": ""
            },
            "colorscale": [
             [
              0,
              "#0d0887"
             ],
             [
              0.1111111111111111,
              "#46039f"
             ],
             [
              0.2222222222222222,
              "#7201a8"
             ],
             [
              0.3333333333333333,
              "#9c179e"
             ],
             [
              0.4444444444444444,
              "#bd3786"
             ],
             [
              0.5555555555555556,
              "#d8576b"
             ],
             [
              0.6666666666666666,
              "#ed7953"
             ],
             [
              0.7777777777777778,
              "#fb9f3a"
             ],
             [
              0.8888888888888888,
              "#fdca26"
             ],
             [
              1,
              "#f0f921"
             ]
            ],
            "type": "heatmap"
           }
          ],
          "heatmapgl": [
           {
            "colorbar": {
             "outlinewidth": 0,
             "ticks": ""
            },
            "colorscale": [
             [
              0,
              "#0d0887"
             ],
             [
              0.1111111111111111,
              "#46039f"
             ],
             [
              0.2222222222222222,
              "#7201a8"
             ],
             [
              0.3333333333333333,
              "#9c179e"
             ],
             [
              0.4444444444444444,
              "#bd3786"
             ],
             [
              0.5555555555555556,
              "#d8576b"
             ],
             [
              0.6666666666666666,
              "#ed7953"
             ],
             [
              0.7777777777777778,
              "#fb9f3a"
             ],
             [
              0.8888888888888888,
              "#fdca26"
             ],
             [
              1,
              "#f0f921"
             ]
            ],
            "type": "heatmapgl"
           }
          ],
          "histogram": [
           {
            "marker": {
             "pattern": {
              "fillmode": "overlay",
              "size": 10,
              "solidity": 0.2
             }
            },
            "type": "histogram"
           }
          ],
          "histogram2d": [
           {
            "colorbar": {
             "outlinewidth": 0,
             "ticks": ""
            },
            "colorscale": [
             [
              0,
              "#0d0887"
             ],
             [
              0.1111111111111111,
              "#46039f"
             ],
             [
              0.2222222222222222,
              "#7201a8"
             ],
             [
              0.3333333333333333,
              "#9c179e"
             ],
             [
              0.4444444444444444,
              "#bd3786"
             ],
             [
              0.5555555555555556,
              "#d8576b"
             ],
             [
              0.6666666666666666,
              "#ed7953"
             ],
             [
              0.7777777777777778,
              "#fb9f3a"
             ],
             [
              0.8888888888888888,
              "#fdca26"
             ],
             [
              1,
              "#f0f921"
             ]
            ],
            "type": "histogram2d"
           }
          ],
          "histogram2dcontour": [
           {
            "colorbar": {
             "outlinewidth": 0,
             "ticks": ""
            },
            "colorscale": [
             [
              0,
              "#0d0887"
             ],
             [
              0.1111111111111111,
              "#46039f"
             ],
             [
              0.2222222222222222,
              "#7201a8"
             ],
             [
              0.3333333333333333,
              "#9c179e"
             ],
             [
              0.4444444444444444,
              "#bd3786"
             ],
             [
              0.5555555555555556,
              "#d8576b"
             ],
             [
              0.6666666666666666,
              "#ed7953"
             ],
             [
              0.7777777777777778,
              "#fb9f3a"
             ],
             [
              0.8888888888888888,
              "#fdca26"
             ],
             [
              1,
              "#f0f921"
             ]
            ],
            "type": "histogram2dcontour"
           }
          ],
          "mesh3d": [
           {
            "colorbar": {
             "outlinewidth": 0,
             "ticks": ""
            },
            "type": "mesh3d"
           }
          ],
          "parcoords": [
           {
            "line": {
             "colorbar": {
              "outlinewidth": 0,
              "ticks": ""
             }
            },
            "type": "parcoords"
           }
          ],
          "pie": [
           {
            "automargin": true,
            "type": "pie"
           }
          ],
          "scatter": [
           {
            "fillpattern": {
             "fillmode": "overlay",
             "size": 10,
             "solidity": 0.2
            },
            "type": "scatter"
           }
          ],
          "scatter3d": [
           {
            "line": {
             "colorbar": {
              "outlinewidth": 0,
              "ticks": ""
             }
            },
            "marker": {
             "colorbar": {
              "outlinewidth": 0,
              "ticks": ""
             }
            },
            "type": "scatter3d"
           }
          ],
          "scattercarpet": [
           {
            "marker": {
             "colorbar": {
              "outlinewidth": 0,
              "ticks": ""
             }
            },
            "type": "scattercarpet"
           }
          ],
          "scattergeo": [
           {
            "marker": {
             "colorbar": {
              "outlinewidth": 0,
              "ticks": ""
             }
            },
            "type": "scattergeo"
           }
          ],
          "scattergl": [
           {
            "marker": {
             "colorbar": {
              "outlinewidth": 0,
              "ticks": ""
             }
            },
            "type": "scattergl"
           }
          ],
          "scattermapbox": [
           {
            "marker": {
             "colorbar": {
              "outlinewidth": 0,
              "ticks": ""
             }
            },
            "type": "scattermapbox"
           }
          ],
          "scatterpolar": [
           {
            "marker": {
             "colorbar": {
              "outlinewidth": 0,
              "ticks": ""
             }
            },
            "type": "scatterpolar"
           }
          ],
          "scatterpolargl": [
           {
            "marker": {
             "colorbar": {
              "outlinewidth": 0,
              "ticks": ""
             }
            },
            "type": "scatterpolargl"
           }
          ],
          "scatterternary": [
           {
            "marker": {
             "colorbar": {
              "outlinewidth": 0,
              "ticks": ""
             }
            },
            "type": "scatterternary"
           }
          ],
          "surface": [
           {
            "colorbar": {
             "outlinewidth": 0,
             "ticks": ""
            },
            "colorscale": [
             [
              0,
              "#0d0887"
             ],
             [
              0.1111111111111111,
              "#46039f"
             ],
             [
              0.2222222222222222,
              "#7201a8"
             ],
             [
              0.3333333333333333,
              "#9c179e"
             ],
             [
              0.4444444444444444,
              "#bd3786"
             ],
             [
              0.5555555555555556,
              "#d8576b"
             ],
             [
              0.6666666666666666,
              "#ed7953"
             ],
             [
              0.7777777777777778,
              "#fb9f3a"
             ],
             [
              0.8888888888888888,
              "#fdca26"
             ],
             [
              1,
              "#f0f921"
             ]
            ],
            "type": "surface"
           }
          ],
          "table": [
           {
            "cells": {
             "fill": {
              "color": "#EBF0F8"
             },
             "line": {
              "color": "white"
             }
            },
            "header": {
             "fill": {
              "color": "#C8D4E3"
             },
             "line": {
              "color": "white"
             }
            },
            "type": "table"
           }
          ]
         },
         "layout": {
          "annotationdefaults": {
           "arrowcolor": "#2a3f5f",
           "arrowhead": 0,
           "arrowwidth": 1
          },
          "autotypenumbers": "strict",
          "coloraxis": {
           "colorbar": {
            "outlinewidth": 0,
            "ticks": ""
           }
          },
          "colorscale": {
           "diverging": [
            [
             0,
             "#8e0152"
            ],
            [
             0.1,
             "#c51b7d"
            ],
            [
             0.2,
             "#de77ae"
            ],
            [
             0.3,
             "#f1b6da"
            ],
            [
             0.4,
             "#fde0ef"
            ],
            [
             0.5,
             "#f7f7f7"
            ],
            [
             0.6,
             "#e6f5d0"
            ],
            [
             0.7,
             "#b8e186"
            ],
            [
             0.8,
             "#7fbc41"
            ],
            [
             0.9,
             "#4d9221"
            ],
            [
             1,
             "#276419"
            ]
           ],
           "sequential": [
            [
             0,
             "#0d0887"
            ],
            [
             0.1111111111111111,
             "#46039f"
            ],
            [
             0.2222222222222222,
             "#7201a8"
            ],
            [
             0.3333333333333333,
             "#9c179e"
            ],
            [
             0.4444444444444444,
             "#bd3786"
            ],
            [
             0.5555555555555556,
             "#d8576b"
            ],
            [
             0.6666666666666666,
             "#ed7953"
            ],
            [
             0.7777777777777778,
             "#fb9f3a"
            ],
            [
             0.8888888888888888,
             "#fdca26"
            ],
            [
             1,
             "#f0f921"
            ]
           ],
           "sequentialminus": [
            [
             0,
             "#0d0887"
            ],
            [
             0.1111111111111111,
             "#46039f"
            ],
            [
             0.2222222222222222,
             "#7201a8"
            ],
            [
             0.3333333333333333,
             "#9c179e"
            ],
            [
             0.4444444444444444,
             "#bd3786"
            ],
            [
             0.5555555555555556,
             "#d8576b"
            ],
            [
             0.6666666666666666,
             "#ed7953"
            ],
            [
             0.7777777777777778,
             "#fb9f3a"
            ],
            [
             0.8888888888888888,
             "#fdca26"
            ],
            [
             1,
             "#f0f921"
            ]
           ]
          },
          "colorway": [
           "#636efa",
           "#EF553B",
           "#00cc96",
           "#ab63fa",
           "#FFA15A",
           "#19d3f3",
           "#FF6692",
           "#B6E880",
           "#FF97FF",
           "#FECB52"
          ],
          "font": {
           "color": "#2a3f5f"
          },
          "geo": {
           "bgcolor": "white",
           "lakecolor": "white",
           "landcolor": "#E5ECF6",
           "showlakes": true,
           "showland": true,
           "subunitcolor": "white"
          },
          "hoverlabel": {
           "align": "left"
          },
          "hovermode": "closest",
          "mapbox": {
           "style": "light"
          },
          "paper_bgcolor": "white",
          "plot_bgcolor": "#E5ECF6",
          "polar": {
           "angularaxis": {
            "gridcolor": "white",
            "linecolor": "white",
            "ticks": ""
           },
           "bgcolor": "#E5ECF6",
           "radialaxis": {
            "gridcolor": "white",
            "linecolor": "white",
            "ticks": ""
           }
          },
          "scene": {
           "xaxis": {
            "backgroundcolor": "#E5ECF6",
            "gridcolor": "white",
            "gridwidth": 2,
            "linecolor": "white",
            "showbackground": true,
            "ticks": "",
            "zerolinecolor": "white"
           },
           "yaxis": {
            "backgroundcolor": "#E5ECF6",
            "gridcolor": "white",
            "gridwidth": 2,
            "linecolor": "white",
            "showbackground": true,
            "ticks": "",
            "zerolinecolor": "white"
           },
           "zaxis": {
            "backgroundcolor": "#E5ECF6",
            "gridcolor": "white",
            "gridwidth": 2,
            "linecolor": "white",
            "showbackground": true,
            "ticks": "",
            "zerolinecolor": "white"
           }
          },
          "shapedefaults": {
           "line": {
            "color": "#2a3f5f"
           }
          },
          "ternary": {
           "aaxis": {
            "gridcolor": "white",
            "linecolor": "white",
            "ticks": ""
           },
           "baxis": {
            "gridcolor": "white",
            "linecolor": "white",
            "ticks": ""
           },
           "bgcolor": "#E5ECF6",
           "caxis": {
            "gridcolor": "white",
            "linecolor": "white",
            "ticks": ""
           }
          },
          "title": {
           "x": 0.05
          },
          "xaxis": {
           "automargin": true,
           "gridcolor": "white",
           "linecolor": "white",
           "ticks": "",
           "title": {
            "standoff": 15
           },
           "zerolinecolor": "white",
           "zerolinewidth": 2
          },
          "yaxis": {
           "automargin": true,
           "gridcolor": "white",
           "linecolor": "white",
           "ticks": "",
           "title": {
            "standoff": 15
           },
           "zerolinecolor": "white",
           "zerolinewidth": 2
          }
         }
        }
       }
      },
      "text/html": [
       "<div>                            <div id=\"cfe448f5-6a80-4978-a017-062d997afb9f\" class=\"plotly-graph-div\" style=\"height:525px; width:100%;\"></div>            <script type=\"text/javascript\">                require([\"plotly\"], function(Plotly) {                    window.PLOTLYENV=window.PLOTLYENV || {};                                    if (document.getElementById(\"cfe448f5-6a80-4978-a017-062d997afb9f\")) {                    Plotly.newPlot(                        \"cfe448f5-6a80-4978-a017-062d997afb9f\",                        [{\"mode\":\"lines\",\"name\":\"\\u041f\\u0440\\u0430\\u0432\\u0434\\u0430\",\"x\":[1,2,3,4,5,6,7,8,9,10,11,12,13,14,15,16,17,18,19,20,21,22,23,24,25,26,27,28,29,30,31,32,33,34,35,36,37,38,39,40,41,42,43,44,45,46,47,48,49,50,51,52,53,54,55,56,57,58,59,60,61,62,63,64,65,66,67,68,69,70,71,72,73,74,75,76,77,78,79,80,81,82,83,84,85,86,87,88,89,90,91,92,93,94,95,96,97,98,99,100,101,102,103,104,105,106,107,108,109,110,111,112,113,114,115,116,117,118,119,120,121,122,123,124,125,126,127,128,129,130,131,132,133,134,135,136,137,138,139,140,141,142,143,144,145,146,147,148,149,150,151,152,153,154,155,156,157,158,159],\"y\":[2148.6000000000004,2191.4,2167.4,2177.6,2206.0,2230.0,2010.0,1899.4,1916.8,1791.7999999999997,1543.0,1713.2000000000003,1780.0,1840.6,1877.6,1959.0,1985.0,2029.8,2004.4,1930.1999999999998,1998.0,2006.6,2043.9999999999998,2031.9999999999998,1991.0,2022.2,1968.0,1927.4,1928.8,1976.0,1973.4,2020.2,2008.0000000000002,2021.0,2021.8,2109.0,2157.0,2110.0,2119.0,2151.6000000000004,2127.6,2060.4,2111.6,2122.2,2132.4,2071.6,2114.2,2097.8,2098.2,2068.0,2083.8,2135.0,2130.0,2020.4,1914.2000000000003,1986.2,1996.6,1980.2,1971.2,1985.8,1989.4,1976.4,1958.4,1949.4,1921.8,1899.2000000000003,1851.0,1849.6,1836.4,1768.7999999999997,1842.0,1833.7999999999997,1847.0,1821.2000000000003,1811.4,1834.0,1815.7999999999997,1819.6,1817.7999999999997,1832.0,1867.0,1855.4,1850.4,1866.7999999999997,1870.0,1909.0,1897.7999999999997,1912.0,1953.8,1889.6,1906.6,1882.4,1904.7999999999997,1945.0000000000002,1919.8,1914.7999999999997,1902.7999999999997,1912.0,1934.0,2047.2,2088.0,2075.0,2055.8,2094.6,2076.6,2060.2,2040.4,2060.8,2065.2,2028.6,1969.1999999999998,1976.4,1971.0,1958.0,1993.8,1980.4,1986.6,2007.4,2015.0,2033.8,1970.8,1984.1999999999998,1973.0,1961.8,1942.0000000000002,1917.0,1907.4,1901.2000000000003,1864.2000000000003,1851.0,1898.0,1910.0,1887.6,1887.7999999999997,1902.0,1886.4,1919.6,1929.6,1919.6,1917.4,1901.6,1913.0,1905.0,1907.2000000000003,1912.7999999999997,1919.8,1993.0000000000002,1952.2,1953.6,1954.0000000000002,1945.0000000000002,1964.8,1981.4,1989.6,2098.6,2086.8,2080.0,2059.4,2113.0,2101.6],\"type\":\"scatter\"},{\"mode\":\"lines\",\"name\":\"\\u041f\\u0440\\u0435\\u0434\\u0441\\u043a\\u0430\\u0437\\u0430\\u043d\\u0438\\u0435\",\"x\":[1,2,3,4,5,6,7,8,9,10,11,12,13,14,15,16,17,18,19,20,21,22,23,24,25,26,27,28,29,30,31,32,33,34,35,36,37,38,39,40,41,42,43,44,45,46,47,48,49,50,51,52,53,54,55,56,57,58,59,60,61,62,63,64,65,66,67,68,69,70,71,72,73,74,75,76,77,78,79,80,81,82,83,84,85,86,87,88,89,90,91,92,93,94,95,96,97,98,99,100,101,102,103,104,105,106,107,108,109,110,111,112,113,114,115,116,117,118,119,120,121,122,123,124,125,126,127,128,129,130,131,132,133,134,135,136,137,138,139,140,141,142,143,144,145,146,147,148,149,150,151,152,153,154,155,156,157,158,159],\"y\":[2055.1095336131766,2015.34785693668,2081.2314853829334,2117.0841205680395,2125.9575489835215,2118.834714760238,2119.448909748413,2120.7556279037763,2160.4780723215226,2118.3089248640244,2038.0101221418113,1940.2919520795665,1862.8605394343926,1826.263127899098,1924.2733370228043,1808.597577256849,1771.8493180261962,1753.793785948572,1764.829200083138,1804.900216726529,1806.729330141049,1804.8779548358707,1898.4178542111285,1996.6437686262877,2077.422674216765,2080.142099746834,2006.7336819489626,2001.0897045106208,2030.0706535339423,1864.249979368442,1866.4438346817146,1953.3983247755132,1950.488692795224,1933.6693281396697,2065.6008737773986,2067.684430941844,2076.4952465644055,2053.346171320435,2076.7115771546623,2041.5610893668274,2026.3510959580926,2028.2786686588593,2080.2698003385312,2082.1650235248926,2112.27189187318,2148.4446402145177,2149.568435237513,2148.4465727976085,2057.8006412810255,2011.4990571937458,2040.9395915202006,2025.6657016333754,2005.7852578828404,2012.7076885075676,2108.2162537653967,2119.5597258107864,2064.4216745635727,1981.7926840714406,2034.047996283171,2022.6588737364193,1977.6215363105973,1961.2286979889993,1978.3351598726476,1950.8062094685656,1909.654303000149,1897.1644961871693,1928.5207976395418,1916.1365476335127,1895.0155563493909,1881.000610349784,1858.7060925027276,1862.7032407769193,1833.2539636154634,1846.9789145629697,1809.1169528429955,1817.8596818676187,1774.7368531812945,1777.2795125313428,1831.3248961408185,1798.8974907791185,1795.2372810789348,1850.5956602155375,1869.108467622943,1853.1160660252813,1821.3182935331415,1834.673280498579,1833.7098667646792,1813.3058551414015,1840.6999370329258,1890.0632279151228,1913.1949173902221,1889.7510936005983,1853.532225545443,1936.990359114145,1956.8153714000266,1900.672686495102,1872.6275520598301,1884.874379128587,1926.984635270527,1914.7268553329836,1893.3564618928244,1928.4911960584498,1983.6315299251587,1994.087468573191,2018.1272252401182,2003.1903869916073,1999.7332521577077,2011.6243465568689,2031.155482568568,2055.0845202318806,2053.9357659220304,2032.4719222216036,2016.8377678842328,2012.6489745437877,1995.8333116814533,1961.11805129244,1944.0269890460238,1964.0620146650579,1956.515456555583,1986.925537740369,1957.7730177465298,1938.2633842911066,1997.8255640400014,1973.7684256645066,1967.7338297336091,1944.2297536108936,1951.9060301569123,1945.2322438355575,1892.5909981910668,1887.0434539632251,1905.2963883547654,1897.1820999102574,1874.6818138920435,1849.5537603628345,1859.254820920407,1855.3189888648449,1857.7489008128337,1872.9660798633408,1884.510110408953,1878.5825062292747,1886.414100917982,1927.454405959856,1935.6177062294523,1875.550876490951,1880.0545838416201,1896.0594531145111,1919.617701733555,1911.1467225528504,1886.4933362722177,1921.280777056457,1942.4992304861626,1926.2015092221966,1911.4302411757017,1922.225515078738,1947.960933858222,1971.0835329165045,2000.634967949223,2036.473496501539,1998.844480745226,2022.3677349417653],\"type\":\"scatter\"}],                        {\"template\":{\"data\":{\"histogram2dcontour\":[{\"type\":\"histogram2dcontour\",\"colorbar\":{\"outlinewidth\":0,\"ticks\":\"\"},\"colorscale\":[[0.0,\"#0d0887\"],[0.1111111111111111,\"#46039f\"],[0.2222222222222222,\"#7201a8\"],[0.3333333333333333,\"#9c179e\"],[0.4444444444444444,\"#bd3786\"],[0.5555555555555556,\"#d8576b\"],[0.6666666666666666,\"#ed7953\"],[0.7777777777777778,\"#fb9f3a\"],[0.8888888888888888,\"#fdca26\"],[1.0,\"#f0f921\"]]}],\"choropleth\":[{\"type\":\"choropleth\",\"colorbar\":{\"outlinewidth\":0,\"ticks\":\"\"}}],\"histogram2d\":[{\"type\":\"histogram2d\",\"colorbar\":{\"outlinewidth\":0,\"ticks\":\"\"},\"colorscale\":[[0.0,\"#0d0887\"],[0.1111111111111111,\"#46039f\"],[0.2222222222222222,\"#7201a8\"],[0.3333333333333333,\"#9c179e\"],[0.4444444444444444,\"#bd3786\"],[0.5555555555555556,\"#d8576b\"],[0.6666666666666666,\"#ed7953\"],[0.7777777777777778,\"#fb9f3a\"],[0.8888888888888888,\"#fdca26\"],[1.0,\"#f0f921\"]]}],\"heatmap\":[{\"type\":\"heatmap\",\"colorbar\":{\"outlinewidth\":0,\"ticks\":\"\"},\"colorscale\":[[0.0,\"#0d0887\"],[0.1111111111111111,\"#46039f\"],[0.2222222222222222,\"#7201a8\"],[0.3333333333333333,\"#9c179e\"],[0.4444444444444444,\"#bd3786\"],[0.5555555555555556,\"#d8576b\"],[0.6666666666666666,\"#ed7953\"],[0.7777777777777778,\"#fb9f3a\"],[0.8888888888888888,\"#fdca26\"],[1.0,\"#f0f921\"]]}],\"heatmapgl\":[{\"type\":\"heatmapgl\",\"colorbar\":{\"outlinewidth\":0,\"ticks\":\"\"},\"colorscale\":[[0.0,\"#0d0887\"],[0.1111111111111111,\"#46039f\"],[0.2222222222222222,\"#7201a8\"],[0.3333333333333333,\"#9c179e\"],[0.4444444444444444,\"#bd3786\"],[0.5555555555555556,\"#d8576b\"],[0.6666666666666666,\"#ed7953\"],[0.7777777777777778,\"#fb9f3a\"],[0.8888888888888888,\"#fdca26\"],[1.0,\"#f0f921\"]]}],\"contourcarpet\":[{\"type\":\"contourcarpet\",\"colorbar\":{\"outlinewidth\":0,\"ticks\":\"\"}}],\"contour\":[{\"type\":\"contour\",\"colorbar\":{\"outlinewidth\":0,\"ticks\":\"\"},\"colorscale\":[[0.0,\"#0d0887\"],[0.1111111111111111,\"#46039f\"],[0.2222222222222222,\"#7201a8\"],[0.3333333333333333,\"#9c179e\"],[0.4444444444444444,\"#bd3786\"],[0.5555555555555556,\"#d8576b\"],[0.6666666666666666,\"#ed7953\"],[0.7777777777777778,\"#fb9f3a\"],[0.8888888888888888,\"#fdca26\"],[1.0,\"#f0f921\"]]}],\"surface\":[{\"type\":\"surface\",\"colorbar\":{\"outlinewidth\":0,\"ticks\":\"\"},\"colorscale\":[[0.0,\"#0d0887\"],[0.1111111111111111,\"#46039f\"],[0.2222222222222222,\"#7201a8\"],[0.3333333333333333,\"#9c179e\"],[0.4444444444444444,\"#bd3786\"],[0.5555555555555556,\"#d8576b\"],[0.6666666666666666,\"#ed7953\"],[0.7777777777777778,\"#fb9f3a\"],[0.8888888888888888,\"#fdca26\"],[1.0,\"#f0f921\"]]}],\"mesh3d\":[{\"type\":\"mesh3d\",\"colorbar\":{\"outlinewidth\":0,\"ticks\":\"\"}}],\"scatter\":[{\"fillpattern\":{\"fillmode\":\"overlay\",\"size\":10,\"solidity\":0.2},\"type\":\"scatter\"}],\"parcoords\":[{\"type\":\"parcoords\",\"line\":{\"colorbar\":{\"outlinewidth\":0,\"ticks\":\"\"}}}],\"scatterpolargl\":[{\"type\":\"scatterpolargl\",\"marker\":{\"colorbar\":{\"outlinewidth\":0,\"ticks\":\"\"}}}],\"bar\":[{\"error_x\":{\"color\":\"#2a3f5f\"},\"error_y\":{\"color\":\"#2a3f5f\"},\"marker\":{\"line\":{\"color\":\"#E5ECF6\",\"width\":0.5},\"pattern\":{\"fillmode\":\"overlay\",\"size\":10,\"solidity\":0.2}},\"type\":\"bar\"}],\"scattergeo\":[{\"type\":\"scattergeo\",\"marker\":{\"colorbar\":{\"outlinewidth\":0,\"ticks\":\"\"}}}],\"scatterpolar\":[{\"type\":\"scatterpolar\",\"marker\":{\"colorbar\":{\"outlinewidth\":0,\"ticks\":\"\"}}}],\"histogram\":[{\"marker\":{\"pattern\":{\"fillmode\":\"overlay\",\"size\":10,\"solidity\":0.2}},\"type\":\"histogram\"}],\"scattergl\":[{\"type\":\"scattergl\",\"marker\":{\"colorbar\":{\"outlinewidth\":0,\"ticks\":\"\"}}}],\"scatter3d\":[{\"type\":\"scatter3d\",\"line\":{\"colorbar\":{\"outlinewidth\":0,\"ticks\":\"\"}},\"marker\":{\"colorbar\":{\"outlinewidth\":0,\"ticks\":\"\"}}}],\"scattermapbox\":[{\"type\":\"scattermapbox\",\"marker\":{\"colorbar\":{\"outlinewidth\":0,\"ticks\":\"\"}}}],\"scatterternary\":[{\"type\":\"scatterternary\",\"marker\":{\"colorbar\":{\"outlinewidth\":0,\"ticks\":\"\"}}}],\"scattercarpet\":[{\"type\":\"scattercarpet\",\"marker\":{\"colorbar\":{\"outlinewidth\":0,\"ticks\":\"\"}}}],\"carpet\":[{\"aaxis\":{\"endlinecolor\":\"#2a3f5f\",\"gridcolor\":\"white\",\"linecolor\":\"white\",\"minorgridcolor\":\"white\",\"startlinecolor\":\"#2a3f5f\"},\"baxis\":{\"endlinecolor\":\"#2a3f5f\",\"gridcolor\":\"white\",\"linecolor\":\"white\",\"minorgridcolor\":\"white\",\"startlinecolor\":\"#2a3f5f\"},\"type\":\"carpet\"}],\"table\":[{\"cells\":{\"fill\":{\"color\":\"#EBF0F8\"},\"line\":{\"color\":\"white\"}},\"header\":{\"fill\":{\"color\":\"#C8D4E3\"},\"line\":{\"color\":\"white\"}},\"type\":\"table\"}],\"barpolar\":[{\"marker\":{\"line\":{\"color\":\"#E5ECF6\",\"width\":0.5},\"pattern\":{\"fillmode\":\"overlay\",\"size\":10,\"solidity\":0.2}},\"type\":\"barpolar\"}],\"pie\":[{\"automargin\":true,\"type\":\"pie\"}]},\"layout\":{\"autotypenumbers\":\"strict\",\"colorway\":[\"#636efa\",\"#EF553B\",\"#00cc96\",\"#ab63fa\",\"#FFA15A\",\"#19d3f3\",\"#FF6692\",\"#B6E880\",\"#FF97FF\",\"#FECB52\"],\"font\":{\"color\":\"#2a3f5f\"},\"hovermode\":\"closest\",\"hoverlabel\":{\"align\":\"left\"},\"paper_bgcolor\":\"white\",\"plot_bgcolor\":\"#E5ECF6\",\"polar\":{\"bgcolor\":\"#E5ECF6\",\"angularaxis\":{\"gridcolor\":\"white\",\"linecolor\":\"white\",\"ticks\":\"\"},\"radialaxis\":{\"gridcolor\":\"white\",\"linecolor\":\"white\",\"ticks\":\"\"}},\"ternary\":{\"bgcolor\":\"#E5ECF6\",\"aaxis\":{\"gridcolor\":\"white\",\"linecolor\":\"white\",\"ticks\":\"\"},\"baxis\":{\"gridcolor\":\"white\",\"linecolor\":\"white\",\"ticks\":\"\"},\"caxis\":{\"gridcolor\":\"white\",\"linecolor\":\"white\",\"ticks\":\"\"}},\"coloraxis\":{\"colorbar\":{\"outlinewidth\":0,\"ticks\":\"\"}},\"colorscale\":{\"sequential\":[[0.0,\"#0d0887\"],[0.1111111111111111,\"#46039f\"],[0.2222222222222222,\"#7201a8\"],[0.3333333333333333,\"#9c179e\"],[0.4444444444444444,\"#bd3786\"],[0.5555555555555556,\"#d8576b\"],[0.6666666666666666,\"#ed7953\"],[0.7777777777777778,\"#fb9f3a\"],[0.8888888888888888,\"#fdca26\"],[1.0,\"#f0f921\"]],\"sequentialminus\":[[0.0,\"#0d0887\"],[0.1111111111111111,\"#46039f\"],[0.2222222222222222,\"#7201a8\"],[0.3333333333333333,\"#9c179e\"],[0.4444444444444444,\"#bd3786\"],[0.5555555555555556,\"#d8576b\"],[0.6666666666666666,\"#ed7953\"],[0.7777777777777778,\"#fb9f3a\"],[0.8888888888888888,\"#fdca26\"],[1.0,\"#f0f921\"]],\"diverging\":[[0,\"#8e0152\"],[0.1,\"#c51b7d\"],[0.2,\"#de77ae\"],[0.3,\"#f1b6da\"],[0.4,\"#fde0ef\"],[0.5,\"#f7f7f7\"],[0.6,\"#e6f5d0\"],[0.7,\"#b8e186\"],[0.8,\"#7fbc41\"],[0.9,\"#4d9221\"],[1,\"#276419\"]]},\"xaxis\":{\"gridcolor\":\"white\",\"linecolor\":\"white\",\"ticks\":\"\",\"title\":{\"standoff\":15},\"zerolinecolor\":\"white\",\"automargin\":true,\"zerolinewidth\":2},\"yaxis\":{\"gridcolor\":\"white\",\"linecolor\":\"white\",\"ticks\":\"\",\"title\":{\"standoff\":15},\"zerolinecolor\":\"white\",\"automargin\":true,\"zerolinewidth\":2},\"scene\":{\"xaxis\":{\"backgroundcolor\":\"#E5ECF6\",\"gridcolor\":\"white\",\"linecolor\":\"white\",\"showbackground\":true,\"ticks\":\"\",\"zerolinecolor\":\"white\",\"gridwidth\":2},\"yaxis\":{\"backgroundcolor\":\"#E5ECF6\",\"gridcolor\":\"white\",\"linecolor\":\"white\",\"showbackground\":true,\"ticks\":\"\",\"zerolinecolor\":\"white\",\"gridwidth\":2},\"zaxis\":{\"backgroundcolor\":\"#E5ECF6\",\"gridcolor\":\"white\",\"linecolor\":\"white\",\"showbackground\":true,\"ticks\":\"\",\"zerolinecolor\":\"white\",\"gridwidth\":2}},\"shapedefaults\":{\"line\":{\"color\":\"#2a3f5f\"}},\"annotationdefaults\":{\"arrowcolor\":\"#2a3f5f\",\"arrowhead\":0,\"arrowwidth\":1},\"geo\":{\"bgcolor\":\"white\",\"landcolor\":\"#E5ECF6\",\"subunitcolor\":\"white\",\"showland\":true,\"showlakes\":true,\"lakecolor\":\"white\"},\"title\":{\"x\":0.05},\"mapbox\":{\"style\":\"light\"}}}},                        {\"responsive\": true}                    ).then(function(){\n",
       "                            \n",
       "var gd = document.getElementById('cfe448f5-6a80-4978-a017-062d997afb9f');\n",
       "var x = new MutationObserver(function (mutations, observer) {{\n",
       "        var display = window.getComputedStyle(gd).display;\n",
       "        if (!display || display === 'none') {{\n",
       "            console.log([gd, 'removed!']);\n",
       "            Plotly.purge(gd);\n",
       "            observer.disconnect();\n",
       "        }}\n",
       "}});\n",
       "\n",
       "// Listen for the removal of the full notebook cells\n",
       "var notebookContainer = gd.closest('#notebook-container');\n",
       "if (notebookContainer) {{\n",
       "    x.observe(notebookContainer, {childList: true});\n",
       "}}\n",
       "\n",
       "// Listen for the clearing of the current output cell\n",
       "var outputEl = gd.closest('.output');\n",
       "if (outputEl) {{\n",
       "    x.observe(outputEl, {childList: true});\n",
       "}}\n",
       "\n",
       "                        })                };                });            </script>        </div>"
      ]
     },
     "metadata": {},
     "output_type": "display_data"
    }
   ],
   "source": [
    "import plotly.graph_objs as go\n",
    "x = list(range(1, len(true)))\n",
    "\n",
    "pred = pred.reshape(-1, pred.shape[-2], pred.shape[-1])\n",
    "true = true.reshape(-1, true.shape[-2], true.shape[-1])\n",
    "\n",
    "trues = []\n",
    "\n",
    "for i in true: \n",
    "    trues.append(i[0][0])\n",
    "\n",
    "preds = []\n",
    "for i in pred: \n",
    "    preds.append(i[0][0])\n",
    "trace1 = go.Scatter(x=x, y=trues, mode='lines', name='Правда')\n",
    "trace2 = go.Scatter(x=x, y=preds, mode='lines', name='Предсказание')\n",
    "data = [trace1, trace2]\n",
    "fig = go.Figure(data=data)\n",
    "fig.show()"
   ]
  },
  {
   "cell_type": "code",
   "execution_count": 12,
   "id": "7ecfd9d4",
   "metadata": {},
   "outputs": [
    {
     "name": "stdout",
     "output_type": "stream",
     "text": [
      "160\n"
     ]
    }
   ],
   "source": [
    "print(len(true))"
   ]
  },
  {
   "cell_type": "code",
   "execution_count": 15,
   "id": "683939f3",
   "metadata": {},
   "outputs": [
    {
     "name": "stdout",
     "output_type": "stream",
     "text": [
      "24\n"
     ]
    }
   ],
   "source": [
    "print(len(true[0]))"
   ]
  },
  {
   "cell_type": "code",
   "execution_count": 37,
   "id": "d362f55e",
   "metadata": {},
   "outputs": [
    {
     "data": {
      "text/html": [
       "<div>\n",
       "<style scoped>\n",
       "    .dataframe tbody tr th:only-of-type {\n",
       "        vertical-align: middle;\n",
       "    }\n",
       "\n",
       "    .dataframe tbody tr th {\n",
       "        vertical-align: top;\n",
       "    }\n",
       "\n",
       "    .dataframe thead th {\n",
       "        text-align: right;\n",
       "    }\n",
       "</style>\n",
       "<table border=\"1\" class=\"dataframe\">\n",
       "  <thead>\n",
       "    <tr style=\"text-align: right;\">\n",
       "      <th></th>\n",
       "      <th>date</th>\n",
       "      <th>&lt;OPEN&gt;</th>\n",
       "      <th>&lt;HIGH&gt;</th>\n",
       "      <th>&lt;LOW&gt;</th>\n",
       "      <th>OT</th>\n",
       "      <th>&lt;VOL&gt;</th>\n",
       "    </tr>\n",
       "  </thead>\n",
       "  <tbody>\n",
       "    <tr>\n",
       "      <th>0</th>\n",
       "      <td>2023-04-03</td>\n",
       "      <td>1910.0</td>\n",
       "      <td>1919.0</td>\n",
       "      <td>1902.6</td>\n",
       "      <td>1913.0</td>\n",
       "      <td>225021</td>\n",
       "    </tr>\n",
       "    <tr>\n",
       "      <th>1</th>\n",
       "      <td>2023-04-04</td>\n",
       "      <td>1916.8</td>\n",
       "      <td>1925.0</td>\n",
       "      <td>1896.4</td>\n",
       "      <td>1905.0</td>\n",
       "      <td>345392</td>\n",
       "    </tr>\n",
       "    <tr>\n",
       "      <th>2</th>\n",
       "      <td>2023-04-05</td>\n",
       "      <td>1905.0</td>\n",
       "      <td>1909.0</td>\n",
       "      <td>1892.0</td>\n",
       "      <td>1907.2</td>\n",
       "      <td>201662</td>\n",
       "    </tr>\n",
       "    <tr>\n",
       "      <th>3</th>\n",
       "      <td>2023-04-06</td>\n",
       "      <td>1907.2</td>\n",
       "      <td>1934.0</td>\n",
       "      <td>1906.2</td>\n",
       "      <td>1912.8</td>\n",
       "      <td>421606</td>\n",
       "    </tr>\n",
       "    <tr>\n",
       "      <th>4</th>\n",
       "      <td>2023-04-07</td>\n",
       "      <td>1918.2</td>\n",
       "      <td>1925.0</td>\n",
       "      <td>1910.4</td>\n",
       "      <td>1919.8</td>\n",
       "      <td>196181</td>\n",
       "    </tr>\n",
       "  </tbody>\n",
       "</table>\n",
       "</div>"
      ],
      "text/plain": [
       "         date  <OPEN>  <HIGH>   <LOW>      OT   <VOL>\n",
       "0  2023-04-03  1910.0  1919.0  1902.6  1913.0  225021\n",
       "1  2023-04-04  1916.8  1925.0  1896.4  1905.0  345392\n",
       "2  2023-04-05  1905.0  1909.0  1892.0  1907.2  201662\n",
       "3  2023-04-06  1907.2  1934.0  1906.2  1912.8  421606\n",
       "4  2023-04-07  1918.2  1925.0  1910.4  1919.8  196181"
      ]
     },
     "execution_count": 37,
     "metadata": {},
     "output_type": "execute_result"
    }
   ],
   "source": [
    "from datetime import datetime\n",
    "\n",
    "frame = pd.read_csv(\"data_month.csv\")\n",
    "frame = frame.rename(columns = {'<DATE>':'date','<CLOSE>':'OT'})\n",
    "frame = frame.drop('<TIME>', axis = 1)\n",
    "for i in range(len(frame)):\n",
    "    frame.at[i, 'date'] = datetime.strptime(str(frame.at[i, 'date']), \"%Y%m%d\").date()\n",
    "#     np.datetime64(str(frame.at[i, 'date']))\n",
    "                                        \n",
    "frame.head()"
   ]
  },
  {
   "cell_type": "code",
   "execution_count": 49,
   "id": "778d9fbf",
   "metadata": {},
   "outputs": [
    {
     "name": "stdout",
     "output_type": "stream",
     "text": [
      "SCINet(\n",
      "  (blocks1): EncoderTree(\n",
      "    (SCINet_Tree): SCINet_Tree(\n",
      "      (workingblock): LevelSCINet(\n",
      "        (interact): InteractorLevel(\n",
      "          (level): Interactor(\n",
      "            (split): Splitting()\n",
      "            (phi): Sequential(\n",
      "              (0): ReplicationPad1d((3, 3))\n",
      "              (1): Conv1d(1, 2, kernel_size=(5,), stride=(1,))\n",
      "              (2): LeakyReLU(negative_slope=0.01, inplace=True)\n",
      "              (3): Dropout(p=0.5, inplace=False)\n",
      "              (4): Conv1d(2, 1, kernel_size=(3,), stride=(1,))\n",
      "              (5): Tanh()\n",
      "            )\n",
      "            (psi): Sequential(\n",
      "              (0): ReplicationPad1d((3, 3))\n",
      "              (1): Conv1d(1, 2, kernel_size=(5,), stride=(1,))\n",
      "              (2): LeakyReLU(negative_slope=0.01, inplace=True)\n",
      "              (3): Dropout(p=0.5, inplace=False)\n",
      "              (4): Conv1d(2, 1, kernel_size=(3,), stride=(1,))\n",
      "              (5): Tanh()\n",
      "            )\n",
      "            (P): Sequential(\n",
      "              (0): ReplicationPad1d((3, 3))\n",
      "              (1): Conv1d(1, 2, kernel_size=(5,), stride=(1,))\n",
      "              (2): LeakyReLU(negative_slope=0.01, inplace=True)\n",
      "              (3): Dropout(p=0.5, inplace=False)\n",
      "              (4): Conv1d(2, 1, kernel_size=(3,), stride=(1,))\n",
      "              (5): Tanh()\n",
      "            )\n",
      "            (U): Sequential(\n",
      "              (0): ReplicationPad1d((3, 3))\n",
      "              (1): Conv1d(1, 2, kernel_size=(5,), stride=(1,))\n",
      "              (2): LeakyReLU(negative_slope=0.01, inplace=True)\n",
      "              (3): Dropout(p=0.5, inplace=False)\n",
      "              (4): Conv1d(2, 1, kernel_size=(3,), stride=(1,))\n",
      "              (5): Tanh()\n",
      "            )\n",
      "          )\n",
      "        )\n",
      "      )\n",
      "      (SCINet_Tree_odd): SCINet_Tree(\n",
      "        (workingblock): LevelSCINet(\n",
      "          (interact): InteractorLevel(\n",
      "            (level): Interactor(\n",
      "              (split): Splitting()\n",
      "              (phi): Sequential(\n",
      "                (0): ReplicationPad1d((3, 3))\n",
      "                (1): Conv1d(1, 2, kernel_size=(5,), stride=(1,))\n",
      "                (2): LeakyReLU(negative_slope=0.01, inplace=True)\n",
      "                (3): Dropout(p=0.5, inplace=False)\n",
      "                (4): Conv1d(2, 1, kernel_size=(3,), stride=(1,))\n",
      "                (5): Tanh()\n",
      "              )\n",
      "              (psi): Sequential(\n",
      "                (0): ReplicationPad1d((3, 3))\n",
      "                (1): Conv1d(1, 2, kernel_size=(5,), stride=(1,))\n",
      "                (2): LeakyReLU(negative_slope=0.01, inplace=True)\n",
      "                (3): Dropout(p=0.5, inplace=False)\n",
      "                (4): Conv1d(2, 1, kernel_size=(3,), stride=(1,))\n",
      "                (5): Tanh()\n",
      "              )\n",
      "              (P): Sequential(\n",
      "                (0): ReplicationPad1d((3, 3))\n",
      "                (1): Conv1d(1, 2, kernel_size=(5,), stride=(1,))\n",
      "                (2): LeakyReLU(negative_slope=0.01, inplace=True)\n",
      "                (3): Dropout(p=0.5, inplace=False)\n",
      "                (4): Conv1d(2, 1, kernel_size=(3,), stride=(1,))\n",
      "                (5): Tanh()\n",
      "              )\n",
      "              (U): Sequential(\n",
      "                (0): ReplicationPad1d((3, 3))\n",
      "                (1): Conv1d(1, 2, kernel_size=(5,), stride=(1,))\n",
      "                (2): LeakyReLU(negative_slope=0.01, inplace=True)\n",
      "                (3): Dropout(p=0.5, inplace=False)\n",
      "                (4): Conv1d(2, 1, kernel_size=(3,), stride=(1,))\n",
      "                (5): Tanh()\n",
      "              )\n",
      "            )\n",
      "          )\n",
      "        )\n",
      "        (SCINet_Tree_odd): SCINet_Tree(\n",
      "          (workingblock): LevelSCINet(\n",
      "            (interact): InteractorLevel(\n",
      "              (level): Interactor(\n",
      "                (split): Splitting()\n",
      "                (phi): Sequential(\n",
      "                  (0): ReplicationPad1d((3, 3))\n",
      "                  (1): Conv1d(1, 2, kernel_size=(5,), stride=(1,))\n",
      "                  (2): LeakyReLU(negative_slope=0.01, inplace=True)\n",
      "                  (3): Dropout(p=0.5, inplace=False)\n",
      "                  (4): Conv1d(2, 1, kernel_size=(3,), stride=(1,))\n",
      "                  (5): Tanh()\n",
      "                )\n",
      "                (psi): Sequential(\n",
      "                  (0): ReplicationPad1d((3, 3))\n",
      "                  (1): Conv1d(1, 2, kernel_size=(5,), stride=(1,))\n",
      "                  (2): LeakyReLU(negative_slope=0.01, inplace=True)\n",
      "                  (3): Dropout(p=0.5, inplace=False)\n",
      "                  (4): Conv1d(2, 1, kernel_size=(3,), stride=(1,))\n",
      "                  (5): Tanh()\n",
      "                )\n",
      "                (P): Sequential(\n",
      "                  (0): ReplicationPad1d((3, 3))\n",
      "                  (1): Conv1d(1, 2, kernel_size=(5,), stride=(1,))\n",
      "                  (2): LeakyReLU(negative_slope=0.01, inplace=True)\n",
      "                  (3): Dropout(p=0.5, inplace=False)\n",
      "                  (4): Conv1d(2, 1, kernel_size=(3,), stride=(1,))\n",
      "                  (5): Tanh()\n",
      "                )\n",
      "                (U): Sequential(\n",
      "                  (0): ReplicationPad1d((3, 3))\n",
      "                  (1): Conv1d(1, 2, kernel_size=(5,), stride=(1,))\n",
      "                  (2): LeakyReLU(negative_slope=0.01, inplace=True)\n",
      "                  (3): Dropout(p=0.5, inplace=False)\n",
      "                  (4): Conv1d(2, 1, kernel_size=(3,), stride=(1,))\n",
      "                  (5): Tanh()\n",
      "                )\n",
      "              )\n",
      "            )\n",
      "          )\n",
      "        )\n",
      "        (SCINet_Tree_even): SCINet_Tree(\n",
      "          (workingblock): LevelSCINet(\n",
      "            (interact): InteractorLevel(\n",
      "              (level): Interactor(\n",
      "                (split): Splitting()\n",
      "                (phi): Sequential(\n",
      "                  (0): ReplicationPad1d((3, 3))\n",
      "                  (1): Conv1d(1, 2, kernel_size=(5,), stride=(1,))\n",
      "                  (2): LeakyReLU(negative_slope=0.01, inplace=True)\n",
      "                  (3): Dropout(p=0.5, inplace=False)\n",
      "                  (4): Conv1d(2, 1, kernel_size=(3,), stride=(1,))\n",
      "                  (5): Tanh()\n",
      "                )\n",
      "                (psi): Sequential(\n",
      "                  (0): ReplicationPad1d((3, 3))\n",
      "                  (1): Conv1d(1, 2, kernel_size=(5,), stride=(1,))\n",
      "                  (2): LeakyReLU(negative_slope=0.01, inplace=True)\n",
      "                  (3): Dropout(p=0.5, inplace=False)\n",
      "                  (4): Conv1d(2, 1, kernel_size=(3,), stride=(1,))\n",
      "                  (5): Tanh()\n",
      "                )\n",
      "                (P): Sequential(\n",
      "                  (0): ReplicationPad1d((3, 3))\n",
      "                  (1): Conv1d(1, 2, kernel_size=(5,), stride=(1,))\n",
      "                  (2): LeakyReLU(negative_slope=0.01, inplace=True)\n",
      "                  (3): Dropout(p=0.5, inplace=False)\n",
      "                  (4): Conv1d(2, 1, kernel_size=(3,), stride=(1,))\n",
      "                  (5): Tanh()\n",
      "                )\n",
      "                (U): Sequential(\n",
      "                  (0): ReplicationPad1d((3, 3))\n",
      "                  (1): Conv1d(1, 2, kernel_size=(5,), stride=(1,))\n",
      "                  (2): LeakyReLU(negative_slope=0.01, inplace=True)\n",
      "                  (3): Dropout(p=0.5, inplace=False)\n",
      "                  (4): Conv1d(2, 1, kernel_size=(3,), stride=(1,))\n",
      "                  (5): Tanh()\n",
      "                )\n",
      "              )\n",
      "            )\n",
      "          )\n",
      "        )\n",
      "      )\n",
      "      (SCINet_Tree_even): SCINet_Tree(\n",
      "        (workingblock): LevelSCINet(\n",
      "          (interact): InteractorLevel(\n",
      "            (level): Interactor(\n",
      "              (split): Splitting()\n",
      "              (phi): Sequential(\n",
      "                (0): ReplicationPad1d((3, 3))\n",
      "                (1): Conv1d(1, 2, kernel_size=(5,), stride=(1,))\n",
      "                (2): LeakyReLU(negative_slope=0.01, inplace=True)\n",
      "                (3): Dropout(p=0.5, inplace=False)\n",
      "                (4): Conv1d(2, 1, kernel_size=(3,), stride=(1,))\n",
      "                (5): Tanh()\n",
      "              )\n",
      "              (psi): Sequential(\n",
      "                (0): ReplicationPad1d((3, 3))\n",
      "                (1): Conv1d(1, 2, kernel_size=(5,), stride=(1,))\n",
      "                (2): LeakyReLU(negative_slope=0.01, inplace=True)\n",
      "                (3): Dropout(p=0.5, inplace=False)\n",
      "                (4): Conv1d(2, 1, kernel_size=(3,), stride=(1,))\n",
      "                (5): Tanh()\n",
      "              )\n",
      "              (P): Sequential(\n",
      "                (0): ReplicationPad1d((3, 3))\n",
      "                (1): Conv1d(1, 2, kernel_size=(5,), stride=(1,))\n",
      "                (2): LeakyReLU(negative_slope=0.01, inplace=True)\n",
      "                (3): Dropout(p=0.5, inplace=False)\n",
      "                (4): Conv1d(2, 1, kernel_size=(3,), stride=(1,))\n",
      "                (5): Tanh()\n",
      "              )\n",
      "              (U): Sequential(\n",
      "                (0): ReplicationPad1d((3, 3))\n",
      "                (1): Conv1d(1, 2, kernel_size=(5,), stride=(1,))\n",
      "                (2): LeakyReLU(negative_slope=0.01, inplace=True)\n",
      "                (3): Dropout(p=0.5, inplace=False)\n",
      "                (4): Conv1d(2, 1, kernel_size=(3,), stride=(1,))\n",
      "                (5): Tanh()\n",
      "              )\n",
      "            )\n",
      "          )\n",
      "        )\n",
      "        (SCINet_Tree_odd): SCINet_Tree(\n",
      "          (workingblock): LevelSCINet(\n",
      "            (interact): InteractorLevel(\n",
      "              (level): Interactor(\n",
      "                (split): Splitting()\n",
      "                (phi): Sequential(\n",
      "                  (0): ReplicationPad1d((3, 3))\n",
      "                  (1): Conv1d(1, 2, kernel_size=(5,), stride=(1,))\n",
      "                  (2): LeakyReLU(negative_slope=0.01, inplace=True)\n",
      "                  (3): Dropout(p=0.5, inplace=False)\n",
      "                  (4): Conv1d(2, 1, kernel_size=(3,), stride=(1,))\n",
      "                  (5): Tanh()\n",
      "                )\n",
      "                (psi): Sequential(\n",
      "                  (0): ReplicationPad1d((3, 3))\n",
      "                  (1): Conv1d(1, 2, kernel_size=(5,), stride=(1,))\n",
      "                  (2): LeakyReLU(negative_slope=0.01, inplace=True)\n",
      "                  (3): Dropout(p=0.5, inplace=False)\n",
      "                  (4): Conv1d(2, 1, kernel_size=(3,), stride=(1,))\n",
      "                  (5): Tanh()\n",
      "                )\n",
      "                (P): Sequential(\n",
      "                  (0): ReplicationPad1d((3, 3))\n",
      "                  (1): Conv1d(1, 2, kernel_size=(5,), stride=(1,))\n",
      "                  (2): LeakyReLU(negative_slope=0.01, inplace=True)\n",
      "                  (3): Dropout(p=0.5, inplace=False)\n",
      "                  (4): Conv1d(2, 1, kernel_size=(3,), stride=(1,))\n",
      "                  (5): Tanh()\n",
      "                )\n",
      "                (U): Sequential(\n",
      "                  (0): ReplicationPad1d((3, 3))\n",
      "                  (1): Conv1d(1, 2, kernel_size=(5,), stride=(1,))\n",
      "                  (2): LeakyReLU(negative_slope=0.01, inplace=True)\n",
      "                  (3): Dropout(p=0.5, inplace=False)\n",
      "                  (4): Conv1d(2, 1, kernel_size=(3,), stride=(1,))\n",
      "                  (5): Tanh()\n",
      "                )\n",
      "              )\n",
      "            )\n",
      "          )\n",
      "        )\n",
      "        (SCINet_Tree_even): SCINet_Tree(\n",
      "          (workingblock): LevelSCINet(\n",
      "            (interact): InteractorLevel(\n",
      "              (level): Interactor(\n",
      "                (split): Splitting()\n",
      "                (phi): Sequential(\n",
      "                  (0): ReplicationPad1d((3, 3))\n",
      "                  (1): Conv1d(1, 2, kernel_size=(5,), stride=(1,))\n",
      "                  (2): LeakyReLU(negative_slope=0.01, inplace=True)\n",
      "                  (3): Dropout(p=0.5, inplace=False)\n",
      "                  (4): Conv1d(2, 1, kernel_size=(3,), stride=(1,))\n",
      "                  (5): Tanh()\n",
      "                )\n",
      "                (psi): Sequential(\n",
      "                  (0): ReplicationPad1d((3, 3))\n",
      "                  (1): Conv1d(1, 2, kernel_size=(5,), stride=(1,))\n",
      "                  (2): LeakyReLU(negative_slope=0.01, inplace=True)\n",
      "                  (3): Dropout(p=0.5, inplace=False)\n",
      "                  (4): Conv1d(2, 1, kernel_size=(3,), stride=(1,))\n",
      "                  (5): Tanh()\n",
      "                )\n",
      "                (P): Sequential(\n",
      "                  (0): ReplicationPad1d((3, 3))\n",
      "                  (1): Conv1d(1, 2, kernel_size=(5,), stride=(1,))\n",
      "                  (2): LeakyReLU(negative_slope=0.01, inplace=True)\n",
      "                  (3): Dropout(p=0.5, inplace=False)\n",
      "                  (4): Conv1d(2, 1, kernel_size=(3,), stride=(1,))\n",
      "                  (5): Tanh()\n",
      "                )\n",
      "                (U): Sequential(\n",
      "                  (0): ReplicationPad1d((3, 3))\n",
      "                  (1): Conv1d(1, 2, kernel_size=(5,), stride=(1,))\n",
      "                  (2): LeakyReLU(negative_slope=0.01, inplace=True)\n",
      "                  (3): Dropout(p=0.5, inplace=False)\n",
      "                  (4): Conv1d(2, 1, kernel_size=(3,), stride=(1,))\n",
      "                  (5): Tanh()\n",
      "                )\n",
      "              )\n",
      "            )\n",
      "          )\n",
      "        )\n",
      "      )\n",
      "    )\n",
      "  )\n",
      "  (projection1): Conv1d(48, 24, kernel_size=(1,), stride=(1,), bias=False)\n",
      "  (div_projection): ModuleList()\n",
      ")\n",
      "pred 10\n"
     ]
    }
   ],
   "source": [
    "from args import args\n",
    "frame.to_csv('data_month_pred.csv', ',', encoding='utf-8')\n",
    "args = args('data', 2, 32, 50, 'data_train_pred', 'data_month_pred.csv')\n",
    "args.detail_freq = args.freq\n",
    "args.freq = args.freq[-1:]\n",
    "\n",
    "Exp = Exp_ETTh\n",
    "exp = Exp(args)\n",
    "\n",
    "pred, true, true_scale, pred_scale = exp.predict('data_train_pred')"
   ]
  },
  {
   "cell_type": "code",
   "execution_count": 53,
   "id": "59891389",
   "metadata": {},
   "outputs": [
    {
     "data": {
      "application/vnd.plotly.v1+json": {
       "config": {
        "plotlyServerURL": "https://plot.ly"
       },
       "data": [
        {
         "mode": "lines",
         "name": "Правда",
         "type": "scatter",
         "x": [
          1,
          2,
          3,
          4,
          5,
          6,
          7,
          8,
          9,
          10,
          11,
          12,
          13,
          14,
          15,
          16,
          17,
          18,
          19,
          20,
          21,
          22,
          23
         ],
         "y": [
          [
           1943
          ],
          [
           2008.8
          ],
          [
           2007.2
          ],
          [
           2012
          ],
          [
           2049.6
          ],
          [
           2045.6
          ],
          [
           2058
          ],
          [
           2032.8
          ],
          [
           2223.2
          ],
          [
           2300
          ],
          [
           2242.8
          ],
          [
           2220
          ],
          [
           2350
          ],
          [
           2322
          ],
          [
           2390
          ],
          [
           2303.6
          ],
          [
           2324.2
          ],
          [
           2313.4
          ],
          [
           2343.6
          ],
          [
           2305.8
          ],
          [
           2323.2
          ],
          [
           2425.4
          ],
          [
           2520
          ],
          [
           2506.6
          ]
         ]
        },
        {
         "mode": "lines",
         "name": "Предсказание",
         "type": "scatter",
         "x": [
          1,
          2,
          3,
          4,
          5,
          6,
          7,
          8,
          9,
          10,
          11,
          12,
          13,
          14,
          15,
          16,
          17,
          18,
          19,
          20,
          21,
          22,
          23
         ],
         "y": [
          [
           2449.8855783483586
          ],
          [
           2396.026661620105
          ],
          [
           2410.263974603418
          ],
          [
           2440.5764156410587
          ],
          [
           2440.05998187424
          ],
          [
           2490.490154278693
          ],
          [
           2447.244774363633
          ],
          [
           2525.3133014536656
          ],
          [
           2420.7888196412046
          ],
          [
           2459.27371280724
          ],
          [
           2447.272707185346
          ],
          [
           2514.545777962842
          ],
          [
           2291.484065517031
          ],
          [
           2454.455492656067
          ],
          [
           2437.6433316257603
          ],
          [
           2473.905765482623
          ],
          [
           2501.883168713201
          ],
          [
           2553.181563379222
          ],
          [
           2525.8385255653407
          ],
          [
           2601.45560933109
          ],
          [
           2458.311691116636
          ],
          [
           2501.7716753797254
          ],
          [
           2564.645398960269
          ],
          [
           2478.7571254361424
          ]
         ]
        }
       ],
       "layout": {
        "template": {
         "data": {
          "bar": [
           {
            "error_x": {
             "color": "#2a3f5f"
            },
            "error_y": {
             "color": "#2a3f5f"
            },
            "marker": {
             "line": {
              "color": "#E5ECF6",
              "width": 0.5
             },
             "pattern": {
              "fillmode": "overlay",
              "size": 10,
              "solidity": 0.2
             }
            },
            "type": "bar"
           }
          ],
          "barpolar": [
           {
            "marker": {
             "line": {
              "color": "#E5ECF6",
              "width": 0.5
             },
             "pattern": {
              "fillmode": "overlay",
              "size": 10,
              "solidity": 0.2
             }
            },
            "type": "barpolar"
           }
          ],
          "carpet": [
           {
            "aaxis": {
             "endlinecolor": "#2a3f5f",
             "gridcolor": "white",
             "linecolor": "white",
             "minorgridcolor": "white",
             "startlinecolor": "#2a3f5f"
            },
            "baxis": {
             "endlinecolor": "#2a3f5f",
             "gridcolor": "white",
             "linecolor": "white",
             "minorgridcolor": "white",
             "startlinecolor": "#2a3f5f"
            },
            "type": "carpet"
           }
          ],
          "choropleth": [
           {
            "colorbar": {
             "outlinewidth": 0,
             "ticks": ""
            },
            "type": "choropleth"
           }
          ],
          "contour": [
           {
            "colorbar": {
             "outlinewidth": 0,
             "ticks": ""
            },
            "colorscale": [
             [
              0,
              "#0d0887"
             ],
             [
              0.1111111111111111,
              "#46039f"
             ],
             [
              0.2222222222222222,
              "#7201a8"
             ],
             [
              0.3333333333333333,
              "#9c179e"
             ],
             [
              0.4444444444444444,
              "#bd3786"
             ],
             [
              0.5555555555555556,
              "#d8576b"
             ],
             [
              0.6666666666666666,
              "#ed7953"
             ],
             [
              0.7777777777777778,
              "#fb9f3a"
             ],
             [
              0.8888888888888888,
              "#fdca26"
             ],
             [
              1,
              "#f0f921"
             ]
            ],
            "type": "contour"
           }
          ],
          "contourcarpet": [
           {
            "colorbar": {
             "outlinewidth": 0,
             "ticks": ""
            },
            "type": "contourcarpet"
           }
          ],
          "heatmap": [
           {
            "colorbar": {
             "outlinewidth": 0,
             "ticks": ""
            },
            "colorscale": [
             [
              0,
              "#0d0887"
             ],
             [
              0.1111111111111111,
              "#46039f"
             ],
             [
              0.2222222222222222,
              "#7201a8"
             ],
             [
              0.3333333333333333,
              "#9c179e"
             ],
             [
              0.4444444444444444,
              "#bd3786"
             ],
             [
              0.5555555555555556,
              "#d8576b"
             ],
             [
              0.6666666666666666,
              "#ed7953"
             ],
             [
              0.7777777777777778,
              "#fb9f3a"
             ],
             [
              0.8888888888888888,
              "#fdca26"
             ],
             [
              1,
              "#f0f921"
             ]
            ],
            "type": "heatmap"
           }
          ],
          "heatmapgl": [
           {
            "colorbar": {
             "outlinewidth": 0,
             "ticks": ""
            },
            "colorscale": [
             [
              0,
              "#0d0887"
             ],
             [
              0.1111111111111111,
              "#46039f"
             ],
             [
              0.2222222222222222,
              "#7201a8"
             ],
             [
              0.3333333333333333,
              "#9c179e"
             ],
             [
              0.4444444444444444,
              "#bd3786"
             ],
             [
              0.5555555555555556,
              "#d8576b"
             ],
             [
              0.6666666666666666,
              "#ed7953"
             ],
             [
              0.7777777777777778,
              "#fb9f3a"
             ],
             [
              0.8888888888888888,
              "#fdca26"
             ],
             [
              1,
              "#f0f921"
             ]
            ],
            "type": "heatmapgl"
           }
          ],
          "histogram": [
           {
            "marker": {
             "pattern": {
              "fillmode": "overlay",
              "size": 10,
              "solidity": 0.2
             }
            },
            "type": "histogram"
           }
          ],
          "histogram2d": [
           {
            "colorbar": {
             "outlinewidth": 0,
             "ticks": ""
            },
            "colorscale": [
             [
              0,
              "#0d0887"
             ],
             [
              0.1111111111111111,
              "#46039f"
             ],
             [
              0.2222222222222222,
              "#7201a8"
             ],
             [
              0.3333333333333333,
              "#9c179e"
             ],
             [
              0.4444444444444444,
              "#bd3786"
             ],
             [
              0.5555555555555556,
              "#d8576b"
             ],
             [
              0.6666666666666666,
              "#ed7953"
             ],
             [
              0.7777777777777778,
              "#fb9f3a"
             ],
             [
              0.8888888888888888,
              "#fdca26"
             ],
             [
              1,
              "#f0f921"
             ]
            ],
            "type": "histogram2d"
           }
          ],
          "histogram2dcontour": [
           {
            "colorbar": {
             "outlinewidth": 0,
             "ticks": ""
            },
            "colorscale": [
             [
              0,
              "#0d0887"
             ],
             [
              0.1111111111111111,
              "#46039f"
             ],
             [
              0.2222222222222222,
              "#7201a8"
             ],
             [
              0.3333333333333333,
              "#9c179e"
             ],
             [
              0.4444444444444444,
              "#bd3786"
             ],
             [
              0.5555555555555556,
              "#d8576b"
             ],
             [
              0.6666666666666666,
              "#ed7953"
             ],
             [
              0.7777777777777778,
              "#fb9f3a"
             ],
             [
              0.8888888888888888,
              "#fdca26"
             ],
             [
              1,
              "#f0f921"
             ]
            ],
            "type": "histogram2dcontour"
           }
          ],
          "mesh3d": [
           {
            "colorbar": {
             "outlinewidth": 0,
             "ticks": ""
            },
            "type": "mesh3d"
           }
          ],
          "parcoords": [
           {
            "line": {
             "colorbar": {
              "outlinewidth": 0,
              "ticks": ""
             }
            },
            "type": "parcoords"
           }
          ],
          "pie": [
           {
            "automargin": true,
            "type": "pie"
           }
          ],
          "scatter": [
           {
            "fillpattern": {
             "fillmode": "overlay",
             "size": 10,
             "solidity": 0.2
            },
            "type": "scatter"
           }
          ],
          "scatter3d": [
           {
            "line": {
             "colorbar": {
              "outlinewidth": 0,
              "ticks": ""
             }
            },
            "marker": {
             "colorbar": {
              "outlinewidth": 0,
              "ticks": ""
             }
            },
            "type": "scatter3d"
           }
          ],
          "scattercarpet": [
           {
            "marker": {
             "colorbar": {
              "outlinewidth": 0,
              "ticks": ""
             }
            },
            "type": "scattercarpet"
           }
          ],
          "scattergeo": [
           {
            "marker": {
             "colorbar": {
              "outlinewidth": 0,
              "ticks": ""
             }
            },
            "type": "scattergeo"
           }
          ],
          "scattergl": [
           {
            "marker": {
             "colorbar": {
              "outlinewidth": 0,
              "ticks": ""
             }
            },
            "type": "scattergl"
           }
          ],
          "scattermapbox": [
           {
            "marker": {
             "colorbar": {
              "outlinewidth": 0,
              "ticks": ""
             }
            },
            "type": "scattermapbox"
           }
          ],
          "scatterpolar": [
           {
            "marker": {
             "colorbar": {
              "outlinewidth": 0,
              "ticks": ""
             }
            },
            "type": "scatterpolar"
           }
          ],
          "scatterpolargl": [
           {
            "marker": {
             "colorbar": {
              "outlinewidth": 0,
              "ticks": ""
             }
            },
            "type": "scatterpolargl"
           }
          ],
          "scatterternary": [
           {
            "marker": {
             "colorbar": {
              "outlinewidth": 0,
              "ticks": ""
             }
            },
            "type": "scatterternary"
           }
          ],
          "surface": [
           {
            "colorbar": {
             "outlinewidth": 0,
             "ticks": ""
            },
            "colorscale": [
             [
              0,
              "#0d0887"
             ],
             [
              0.1111111111111111,
              "#46039f"
             ],
             [
              0.2222222222222222,
              "#7201a8"
             ],
             [
              0.3333333333333333,
              "#9c179e"
             ],
             [
              0.4444444444444444,
              "#bd3786"
             ],
             [
              0.5555555555555556,
              "#d8576b"
             ],
             [
              0.6666666666666666,
              "#ed7953"
             ],
             [
              0.7777777777777778,
              "#fb9f3a"
             ],
             [
              0.8888888888888888,
              "#fdca26"
             ],
             [
              1,
              "#f0f921"
             ]
            ],
            "type": "surface"
           }
          ],
          "table": [
           {
            "cells": {
             "fill": {
              "color": "#EBF0F8"
             },
             "line": {
              "color": "white"
             }
            },
            "header": {
             "fill": {
              "color": "#C8D4E3"
             },
             "line": {
              "color": "white"
             }
            },
            "type": "table"
           }
          ]
         },
         "layout": {
          "annotationdefaults": {
           "arrowcolor": "#2a3f5f",
           "arrowhead": 0,
           "arrowwidth": 1
          },
          "autotypenumbers": "strict",
          "coloraxis": {
           "colorbar": {
            "outlinewidth": 0,
            "ticks": ""
           }
          },
          "colorscale": {
           "diverging": [
            [
             0,
             "#8e0152"
            ],
            [
             0.1,
             "#c51b7d"
            ],
            [
             0.2,
             "#de77ae"
            ],
            [
             0.3,
             "#f1b6da"
            ],
            [
             0.4,
             "#fde0ef"
            ],
            [
             0.5,
             "#f7f7f7"
            ],
            [
             0.6,
             "#e6f5d0"
            ],
            [
             0.7,
             "#b8e186"
            ],
            [
             0.8,
             "#7fbc41"
            ],
            [
             0.9,
             "#4d9221"
            ],
            [
             1,
             "#276419"
            ]
           ],
           "sequential": [
            [
             0,
             "#0d0887"
            ],
            [
             0.1111111111111111,
             "#46039f"
            ],
            [
             0.2222222222222222,
             "#7201a8"
            ],
            [
             0.3333333333333333,
             "#9c179e"
            ],
            [
             0.4444444444444444,
             "#bd3786"
            ],
            [
             0.5555555555555556,
             "#d8576b"
            ],
            [
             0.6666666666666666,
             "#ed7953"
            ],
            [
             0.7777777777777778,
             "#fb9f3a"
            ],
            [
             0.8888888888888888,
             "#fdca26"
            ],
            [
             1,
             "#f0f921"
            ]
           ],
           "sequentialminus": [
            [
             0,
             "#0d0887"
            ],
            [
             0.1111111111111111,
             "#46039f"
            ],
            [
             0.2222222222222222,
             "#7201a8"
            ],
            [
             0.3333333333333333,
             "#9c179e"
            ],
            [
             0.4444444444444444,
             "#bd3786"
            ],
            [
             0.5555555555555556,
             "#d8576b"
            ],
            [
             0.6666666666666666,
             "#ed7953"
            ],
            [
             0.7777777777777778,
             "#fb9f3a"
            ],
            [
             0.8888888888888888,
             "#fdca26"
            ],
            [
             1,
             "#f0f921"
            ]
           ]
          },
          "colorway": [
           "#636efa",
           "#EF553B",
           "#00cc96",
           "#ab63fa",
           "#FFA15A",
           "#19d3f3",
           "#FF6692",
           "#B6E880",
           "#FF97FF",
           "#FECB52"
          ],
          "font": {
           "color": "#2a3f5f"
          },
          "geo": {
           "bgcolor": "white",
           "lakecolor": "white",
           "landcolor": "#E5ECF6",
           "showlakes": true,
           "showland": true,
           "subunitcolor": "white"
          },
          "hoverlabel": {
           "align": "left"
          },
          "hovermode": "closest",
          "mapbox": {
           "style": "light"
          },
          "paper_bgcolor": "white",
          "plot_bgcolor": "#E5ECF6",
          "polar": {
           "angularaxis": {
            "gridcolor": "white",
            "linecolor": "white",
            "ticks": ""
           },
           "bgcolor": "#E5ECF6",
           "radialaxis": {
            "gridcolor": "white",
            "linecolor": "white",
            "ticks": ""
           }
          },
          "scene": {
           "xaxis": {
            "backgroundcolor": "#E5ECF6",
            "gridcolor": "white",
            "gridwidth": 2,
            "linecolor": "white",
            "showbackground": true,
            "ticks": "",
            "zerolinecolor": "white"
           },
           "yaxis": {
            "backgroundcolor": "#E5ECF6",
            "gridcolor": "white",
            "gridwidth": 2,
            "linecolor": "white",
            "showbackground": true,
            "ticks": "",
            "zerolinecolor": "white"
           },
           "zaxis": {
            "backgroundcolor": "#E5ECF6",
            "gridcolor": "white",
            "gridwidth": 2,
            "linecolor": "white",
            "showbackground": true,
            "ticks": "",
            "zerolinecolor": "white"
           }
          },
          "shapedefaults": {
           "line": {
            "color": "#2a3f5f"
           }
          },
          "ternary": {
           "aaxis": {
            "gridcolor": "white",
            "linecolor": "white",
            "ticks": ""
           },
           "baxis": {
            "gridcolor": "white",
            "linecolor": "white",
            "ticks": ""
           },
           "bgcolor": "#E5ECF6",
           "caxis": {
            "gridcolor": "white",
            "linecolor": "white",
            "ticks": ""
           }
          },
          "title": {
           "x": 0.05
          },
          "xaxis": {
           "automargin": true,
           "gridcolor": "white",
           "linecolor": "white",
           "ticks": "",
           "title": {
            "standoff": 15
           },
           "zerolinecolor": "white",
           "zerolinewidth": 2
          },
          "yaxis": {
           "automargin": true,
           "gridcolor": "white",
           "linecolor": "white",
           "ticks": "",
           "title": {
            "standoff": 15
           },
           "zerolinecolor": "white",
           "zerolinewidth": 2
          }
         }
        }
       }
      },
      "text/html": [
       "<div>                            <div id=\"52dab30d-2281-487d-bd61-381f0559e03f\" class=\"plotly-graph-div\" style=\"height:525px; width:100%;\"></div>            <script type=\"text/javascript\">                require([\"plotly\"], function(Plotly) {                    window.PLOTLYENV=window.PLOTLYENV || {};                                    if (document.getElementById(\"52dab30d-2281-487d-bd61-381f0559e03f\")) {                    Plotly.newPlot(                        \"52dab30d-2281-487d-bd61-381f0559e03f\",                        [{\"mode\":\"lines\",\"name\":\"\\u041f\\u0440\\u0430\\u0432\\u0434\\u0430\",\"x\":[1,2,3,4,5,6,7,8,9,10,11,12,13,14,15,16,17,18,19,20,21,22,23],\"y\":[[1943.0],[2008.8],[2007.2],[2012.0],[2049.6],[2045.6],[2058.0],[2032.8],[2223.2],[2300.0],[2242.8],[2220.0],[2350.0],[2322.0],[2390.0],[2303.6],[2324.2],[2313.4],[2343.6],[2305.8],[2323.2],[2425.4],[2520.0],[2506.6]],\"type\":\"scatter\"},{\"mode\":\"lines\",\"name\":\"\\u041f\\u0440\\u0435\\u0434\\u0441\\u043a\\u0430\\u0437\\u0430\\u043d\\u0438\\u0435\",\"x\":[1,2,3,4,5,6,7,8,9,10,11,12,13,14,15,16,17,18,19,20,21,22,23],\"y\":[[2449.8855783483586],[2396.026661620105],[2410.263974603418],[2440.5764156410587],[2440.05998187424],[2490.490154278693],[2447.244774363633],[2525.3133014536656],[2420.7888196412046],[2459.27371280724],[2447.272707185346],[2514.545777962842],[2291.484065517031],[2454.455492656067],[2437.6433316257603],[2473.905765482623],[2501.883168713201],[2553.181563379222],[2525.8385255653407],[2601.45560933109],[2458.311691116636],[2501.7716753797254],[2564.645398960269],[2478.7571254361424]],\"type\":\"scatter\"}],                        {\"template\":{\"data\":{\"histogram2dcontour\":[{\"type\":\"histogram2dcontour\",\"colorbar\":{\"outlinewidth\":0,\"ticks\":\"\"},\"colorscale\":[[0.0,\"#0d0887\"],[0.1111111111111111,\"#46039f\"],[0.2222222222222222,\"#7201a8\"],[0.3333333333333333,\"#9c179e\"],[0.4444444444444444,\"#bd3786\"],[0.5555555555555556,\"#d8576b\"],[0.6666666666666666,\"#ed7953\"],[0.7777777777777778,\"#fb9f3a\"],[0.8888888888888888,\"#fdca26\"],[1.0,\"#f0f921\"]]}],\"choropleth\":[{\"type\":\"choropleth\",\"colorbar\":{\"outlinewidth\":0,\"ticks\":\"\"}}],\"histogram2d\":[{\"type\":\"histogram2d\",\"colorbar\":{\"outlinewidth\":0,\"ticks\":\"\"},\"colorscale\":[[0.0,\"#0d0887\"],[0.1111111111111111,\"#46039f\"],[0.2222222222222222,\"#7201a8\"],[0.3333333333333333,\"#9c179e\"],[0.4444444444444444,\"#bd3786\"],[0.5555555555555556,\"#d8576b\"],[0.6666666666666666,\"#ed7953\"],[0.7777777777777778,\"#fb9f3a\"],[0.8888888888888888,\"#fdca26\"],[1.0,\"#f0f921\"]]}],\"heatmap\":[{\"type\":\"heatmap\",\"colorbar\":{\"outlinewidth\":0,\"ticks\":\"\"},\"colorscale\":[[0.0,\"#0d0887\"],[0.1111111111111111,\"#46039f\"],[0.2222222222222222,\"#7201a8\"],[0.3333333333333333,\"#9c179e\"],[0.4444444444444444,\"#bd3786\"],[0.5555555555555556,\"#d8576b\"],[0.6666666666666666,\"#ed7953\"],[0.7777777777777778,\"#fb9f3a\"],[0.8888888888888888,\"#fdca26\"],[1.0,\"#f0f921\"]]}],\"heatmapgl\":[{\"type\":\"heatmapgl\",\"colorbar\":{\"outlinewidth\":0,\"ticks\":\"\"},\"colorscale\":[[0.0,\"#0d0887\"],[0.1111111111111111,\"#46039f\"],[0.2222222222222222,\"#7201a8\"],[0.3333333333333333,\"#9c179e\"],[0.4444444444444444,\"#bd3786\"],[0.5555555555555556,\"#d8576b\"],[0.6666666666666666,\"#ed7953\"],[0.7777777777777778,\"#fb9f3a\"],[0.8888888888888888,\"#fdca26\"],[1.0,\"#f0f921\"]]}],\"contourcarpet\":[{\"type\":\"contourcarpet\",\"colorbar\":{\"outlinewidth\":0,\"ticks\":\"\"}}],\"contour\":[{\"type\":\"contour\",\"colorbar\":{\"outlinewidth\":0,\"ticks\":\"\"},\"colorscale\":[[0.0,\"#0d0887\"],[0.1111111111111111,\"#46039f\"],[0.2222222222222222,\"#7201a8\"],[0.3333333333333333,\"#9c179e\"],[0.4444444444444444,\"#bd3786\"],[0.5555555555555556,\"#d8576b\"],[0.6666666666666666,\"#ed7953\"],[0.7777777777777778,\"#fb9f3a\"],[0.8888888888888888,\"#fdca26\"],[1.0,\"#f0f921\"]]}],\"surface\":[{\"type\":\"surface\",\"colorbar\":{\"outlinewidth\":0,\"ticks\":\"\"},\"colorscale\":[[0.0,\"#0d0887\"],[0.1111111111111111,\"#46039f\"],[0.2222222222222222,\"#7201a8\"],[0.3333333333333333,\"#9c179e\"],[0.4444444444444444,\"#bd3786\"],[0.5555555555555556,\"#d8576b\"],[0.6666666666666666,\"#ed7953\"],[0.7777777777777778,\"#fb9f3a\"],[0.8888888888888888,\"#fdca26\"],[1.0,\"#f0f921\"]]}],\"mesh3d\":[{\"type\":\"mesh3d\",\"colorbar\":{\"outlinewidth\":0,\"ticks\":\"\"}}],\"scatter\":[{\"fillpattern\":{\"fillmode\":\"overlay\",\"size\":10,\"solidity\":0.2},\"type\":\"scatter\"}],\"parcoords\":[{\"type\":\"parcoords\",\"line\":{\"colorbar\":{\"outlinewidth\":0,\"ticks\":\"\"}}}],\"scatterpolargl\":[{\"type\":\"scatterpolargl\",\"marker\":{\"colorbar\":{\"outlinewidth\":0,\"ticks\":\"\"}}}],\"bar\":[{\"error_x\":{\"color\":\"#2a3f5f\"},\"error_y\":{\"color\":\"#2a3f5f\"},\"marker\":{\"line\":{\"color\":\"#E5ECF6\",\"width\":0.5},\"pattern\":{\"fillmode\":\"overlay\",\"size\":10,\"solidity\":0.2}},\"type\":\"bar\"}],\"scattergeo\":[{\"type\":\"scattergeo\",\"marker\":{\"colorbar\":{\"outlinewidth\":0,\"ticks\":\"\"}}}],\"scatterpolar\":[{\"type\":\"scatterpolar\",\"marker\":{\"colorbar\":{\"outlinewidth\":0,\"ticks\":\"\"}}}],\"histogram\":[{\"marker\":{\"pattern\":{\"fillmode\":\"overlay\",\"size\":10,\"solidity\":0.2}},\"type\":\"histogram\"}],\"scattergl\":[{\"type\":\"scattergl\",\"marker\":{\"colorbar\":{\"outlinewidth\":0,\"ticks\":\"\"}}}],\"scatter3d\":[{\"type\":\"scatter3d\",\"line\":{\"colorbar\":{\"outlinewidth\":0,\"ticks\":\"\"}},\"marker\":{\"colorbar\":{\"outlinewidth\":0,\"ticks\":\"\"}}}],\"scattermapbox\":[{\"type\":\"scattermapbox\",\"marker\":{\"colorbar\":{\"outlinewidth\":0,\"ticks\":\"\"}}}],\"scatterternary\":[{\"type\":\"scatterternary\",\"marker\":{\"colorbar\":{\"outlinewidth\":0,\"ticks\":\"\"}}}],\"scattercarpet\":[{\"type\":\"scattercarpet\",\"marker\":{\"colorbar\":{\"outlinewidth\":0,\"ticks\":\"\"}}}],\"carpet\":[{\"aaxis\":{\"endlinecolor\":\"#2a3f5f\",\"gridcolor\":\"white\",\"linecolor\":\"white\",\"minorgridcolor\":\"white\",\"startlinecolor\":\"#2a3f5f\"},\"baxis\":{\"endlinecolor\":\"#2a3f5f\",\"gridcolor\":\"white\",\"linecolor\":\"white\",\"minorgridcolor\":\"white\",\"startlinecolor\":\"#2a3f5f\"},\"type\":\"carpet\"}],\"table\":[{\"cells\":{\"fill\":{\"color\":\"#EBF0F8\"},\"line\":{\"color\":\"white\"}},\"header\":{\"fill\":{\"color\":\"#C8D4E3\"},\"line\":{\"color\":\"white\"}},\"type\":\"table\"}],\"barpolar\":[{\"marker\":{\"line\":{\"color\":\"#E5ECF6\",\"width\":0.5},\"pattern\":{\"fillmode\":\"overlay\",\"size\":10,\"solidity\":0.2}},\"type\":\"barpolar\"}],\"pie\":[{\"automargin\":true,\"type\":\"pie\"}]},\"layout\":{\"autotypenumbers\":\"strict\",\"colorway\":[\"#636efa\",\"#EF553B\",\"#00cc96\",\"#ab63fa\",\"#FFA15A\",\"#19d3f3\",\"#FF6692\",\"#B6E880\",\"#FF97FF\",\"#FECB52\"],\"font\":{\"color\":\"#2a3f5f\"},\"hovermode\":\"closest\",\"hoverlabel\":{\"align\":\"left\"},\"paper_bgcolor\":\"white\",\"plot_bgcolor\":\"#E5ECF6\",\"polar\":{\"bgcolor\":\"#E5ECF6\",\"angularaxis\":{\"gridcolor\":\"white\",\"linecolor\":\"white\",\"ticks\":\"\"},\"radialaxis\":{\"gridcolor\":\"white\",\"linecolor\":\"white\",\"ticks\":\"\"}},\"ternary\":{\"bgcolor\":\"#E5ECF6\",\"aaxis\":{\"gridcolor\":\"white\",\"linecolor\":\"white\",\"ticks\":\"\"},\"baxis\":{\"gridcolor\":\"white\",\"linecolor\":\"white\",\"ticks\":\"\"},\"caxis\":{\"gridcolor\":\"white\",\"linecolor\":\"white\",\"ticks\":\"\"}},\"coloraxis\":{\"colorbar\":{\"outlinewidth\":0,\"ticks\":\"\"}},\"colorscale\":{\"sequential\":[[0.0,\"#0d0887\"],[0.1111111111111111,\"#46039f\"],[0.2222222222222222,\"#7201a8\"],[0.3333333333333333,\"#9c179e\"],[0.4444444444444444,\"#bd3786\"],[0.5555555555555556,\"#d8576b\"],[0.6666666666666666,\"#ed7953\"],[0.7777777777777778,\"#fb9f3a\"],[0.8888888888888888,\"#fdca26\"],[1.0,\"#f0f921\"]],\"sequentialminus\":[[0.0,\"#0d0887\"],[0.1111111111111111,\"#46039f\"],[0.2222222222222222,\"#7201a8\"],[0.3333333333333333,\"#9c179e\"],[0.4444444444444444,\"#bd3786\"],[0.5555555555555556,\"#d8576b\"],[0.6666666666666666,\"#ed7953\"],[0.7777777777777778,\"#fb9f3a\"],[0.8888888888888888,\"#fdca26\"],[1.0,\"#f0f921\"]],\"diverging\":[[0,\"#8e0152\"],[0.1,\"#c51b7d\"],[0.2,\"#de77ae\"],[0.3,\"#f1b6da\"],[0.4,\"#fde0ef\"],[0.5,\"#f7f7f7\"],[0.6,\"#e6f5d0\"],[0.7,\"#b8e186\"],[0.8,\"#7fbc41\"],[0.9,\"#4d9221\"],[1,\"#276419\"]]},\"xaxis\":{\"gridcolor\":\"white\",\"linecolor\":\"white\",\"ticks\":\"\",\"title\":{\"standoff\":15},\"zerolinecolor\":\"white\",\"automargin\":true,\"zerolinewidth\":2},\"yaxis\":{\"gridcolor\":\"white\",\"linecolor\":\"white\",\"ticks\":\"\",\"title\":{\"standoff\":15},\"zerolinecolor\":\"white\",\"automargin\":true,\"zerolinewidth\":2},\"scene\":{\"xaxis\":{\"backgroundcolor\":\"#E5ECF6\",\"gridcolor\":\"white\",\"linecolor\":\"white\",\"showbackground\":true,\"ticks\":\"\",\"zerolinecolor\":\"white\",\"gridwidth\":2},\"yaxis\":{\"backgroundcolor\":\"#E5ECF6\",\"gridcolor\":\"white\",\"linecolor\":\"white\",\"showbackground\":true,\"ticks\":\"\",\"zerolinecolor\":\"white\",\"gridwidth\":2},\"zaxis\":{\"backgroundcolor\":\"#E5ECF6\",\"gridcolor\":\"white\",\"linecolor\":\"white\",\"showbackground\":true,\"ticks\":\"\",\"zerolinecolor\":\"white\",\"gridwidth\":2}},\"shapedefaults\":{\"line\":{\"color\":\"#2a3f5f\"}},\"annotationdefaults\":{\"arrowcolor\":\"#2a3f5f\",\"arrowhead\":0,\"arrowwidth\":1},\"geo\":{\"bgcolor\":\"white\",\"landcolor\":\"#E5ECF6\",\"subunitcolor\":\"white\",\"showland\":true,\"showlakes\":true,\"lakecolor\":\"white\"},\"title\":{\"x\":0.05},\"mapbox\":{\"style\":\"light\"}}}},                        {\"responsive\": true}                    ).then(function(){\n",
       "                            \n",
       "var gd = document.getElementById('52dab30d-2281-487d-bd61-381f0559e03f');\n",
       "var x = new MutationObserver(function (mutations, observer) {{\n",
       "        var display = window.getComputedStyle(gd).display;\n",
       "        if (!display || display === 'none') {{\n",
       "            console.log([gd, 'removed!']);\n",
       "            Plotly.purge(gd);\n",
       "            observer.disconnect();\n",
       "        }}\n",
       "}});\n",
       "\n",
       "// Listen for the removal of the full notebook cells\n",
       "var notebookContainer = gd.closest('#notebook-container');\n",
       "if (notebookContainer) {{\n",
       "    x.observe(notebookContainer, {childList: true});\n",
       "}}\n",
       "\n",
       "// Listen for the clearing of the current output cell\n",
       "var outputEl = gd.closest('.output');\n",
       "if (outputEl) {{\n",
       "    x.observe(outputEl, {childList: true});\n",
       "}}\n",
       "\n",
       "                        })                };                });            </script>        </div>"
      ]
     },
     "metadata": {},
     "output_type": "display_data"
    }
   ],
   "source": [
    "pred_scale = pred_scale.reshape(-1, pred_scale.shape[-2], pred_scale.shape[-1])\n",
    "true_scale = true_scale.reshape(-1, true_scale.shape[-2], true_scale.shape[-1])\n",
    "\n",
    "trues = true_scale[0]\n",
    "\n",
    "# for i in true_scale: \n",
    "#     trues.append(i[0][0])\n",
    "    \n",
    "preds = pred_scale[0]\n",
    "\n",
    "# for i in pred_scale: \n",
    "#     preds.append(i[0][0])\n",
    "x = list(range(1, len(true_scale[0])))\n",
    "trace1 = go.Scatter(x=x, y=trues, mode='lines', name='Правда')\n",
    "trace2 = go.Scatter(x=x, y=preds, mode='lines', name='Предсказание')\n",
    "data = [trace1, trace2]\n",
    "fig = go.Figure(data=data)\n",
    "fig.show()"
   ]
  },
  {
   "cell_type": "code",
   "execution_count": 54,
   "id": "3777094a",
   "metadata": {},
   "outputs": [
    {
     "data": {
      "text/plain": [
       "array([[1943. ],\n",
       "       [2008.8],\n",
       "       [2007.2],\n",
       "       [2012. ],\n",
       "       [2049.6],\n",
       "       [2045.6],\n",
       "       [2058. ],\n",
       "       [2032.8],\n",
       "       [2223.2],\n",
       "       [2300. ],\n",
       "       [2242.8],\n",
       "       [2220. ],\n",
       "       [2350. ],\n",
       "       [2322. ],\n",
       "       [2390. ],\n",
       "       [2303.6],\n",
       "       [2324.2],\n",
       "       [2313.4],\n",
       "       [2343.6],\n",
       "       [2305.8],\n",
       "       [2323.2],\n",
       "       [2425.4],\n",
       "       [2520. ],\n",
       "       [2506.6]])"
      ]
     },
     "execution_count": 54,
     "metadata": {},
     "output_type": "execute_result"
    }
   ],
   "source": [
    "true_scale[0]"
   ]
  },
  {
   "cell_type": "code",
   "execution_count": 55,
   "id": "a153860e",
   "metadata": {},
   "outputs": [
    {
     "data": {
      "text/plain": [
       "array([[2449.88557835],\n",
       "       [2396.02666162],\n",
       "       [2410.2639746 ],\n",
       "       [2440.57641564],\n",
       "       [2440.05998187],\n",
       "       [2490.49015428],\n",
       "       [2447.24477436],\n",
       "       [2525.31330145],\n",
       "       [2420.78881964],\n",
       "       [2459.27371281],\n",
       "       [2447.27270719],\n",
       "       [2514.54577796],\n",
       "       [2291.48406552],\n",
       "       [2454.45549266],\n",
       "       [2437.64333163],\n",
       "       [2473.90576548],\n",
       "       [2501.88316871],\n",
       "       [2553.18156338],\n",
       "       [2525.83852557],\n",
       "       [2601.45560933],\n",
       "       [2458.31169112],\n",
       "       [2501.77167538],\n",
       "       [2564.64539896],\n",
       "       [2478.75712544]])"
      ]
     },
     "execution_count": 55,
     "metadata": {},
     "output_type": "execute_result"
    }
   ],
   "source": [
    "pred_scale[0]"
   ]
  },
  {
   "cell_type": "code",
   "execution_count": null,
   "id": "cfcd61a7",
   "metadata": {},
   "outputs": [],
   "source": []
  }
 ],
 "metadata": {
  "kernelspec": {
   "display_name": "Python 3 (ipykernel)",
   "language": "python",
   "name": "python3"
  },
  "language_info": {
   "codemirror_mode": {
    "name": "ipython",
    "version": 3
   },
   "file_extension": ".py",
   "mimetype": "text/x-python",
   "name": "python",
   "nbconvert_exporter": "python",
   "pygments_lexer": "ipython3",
   "version": "3.9.12"
  }
 },
 "nbformat": 4,
 "nbformat_minor": 5
}
